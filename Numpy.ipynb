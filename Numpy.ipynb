{
  "nbformat": 4,
  "nbformat_minor": 0,
  "metadata": {
    "colab": {
      "provenance": []
    },
    "kernelspec": {
      "name": "python3",
      "display_name": "Python 3"
    },
    "language_info": {
      "name": "python"
    }
  },
  "cells": [
    {
      "cell_type": "code",
      "execution_count": null,
      "metadata": {
        "colab": {
          "base_uri": "https://localhost:8080/"
        },
        "id": "7Rzlwjc7gBNN",
        "outputId": "7b27e261-1120-46c0-b398-4874f6822dde"
      },
      "outputs": [
        {
          "output_type": "stream",
          "name": "stdout",
          "text": [
            "Requirement already satisfied: numpy in /usr/local/lib/python3.11/dist-packages (2.0.2)\n"
          ]
        }
      ],
      "source": [
        "!pip install numpy\n"
      ]
    },
    {
      "cell_type": "code",
      "source": [
        "import numpy as np"
      ],
      "metadata": {
        "id": "Lo_BUc2jgmWf"
      },
      "execution_count": null,
      "outputs": []
    },
    {
      "cell_type": "code",
      "source": [
        "np"
      ],
      "metadata": {
        "colab": {
          "base_uri": "https://localhost:8080/"
        },
        "id": "2jpZVilJgmTL",
        "outputId": "d778878e-7ed8-4f44-ab1a-f5ca80b75d19"
      },
      "execution_count": null,
      "outputs": [
        {
          "output_type": "execute_result",
          "data": {
            "text/plain": [
              "<module 'numpy' from '/usr/local/lib/python3.11/dist-packages/numpy/__init__.py'>"
            ]
          },
          "metadata": {},
          "execution_count": 3
        }
      ]
    },
    {
      "cell_type": "code",
      "source": [
        "lst=([[1,2,3],[2,3,4],[3,4,5]])"
      ],
      "metadata": {
        "id": "J-SMvWUggmFy"
      },
      "execution_count": null,
      "outputs": []
    },
    {
      "cell_type": "code",
      "source": [
        "type(lst)"
      ],
      "metadata": {
        "colab": {
          "base_uri": "https://localhost:8080/"
        },
        "id": "3dr6h1lMglvq",
        "outputId": "b4f0edf8-d2ab-42c3-fa07-a3b4040f9c4f"
      },
      "execution_count": null,
      "outputs": [
        {
          "output_type": "execute_result",
          "data": {
            "text/plain": [
              "list"
            ]
          },
          "metadata": {},
          "execution_count": 20
        }
      ]
    },
    {
      "cell_type": "code",
      "source": [
        "arr=np.array(lst)"
      ],
      "metadata": {
        "id": "gF0cE24qhOz9"
      },
      "execution_count": null,
      "outputs": []
    },
    {
      "cell_type": "code",
      "source": [
        "arr"
      ],
      "metadata": {
        "colab": {
          "base_uri": "https://localhost:8080/"
        },
        "id": "Kl_yZq9ahP_O",
        "outputId": "fda409a7-bbb4-4d91-fce8-01b11b085111"
      },
      "execution_count": null,
      "outputs": [
        {
          "output_type": "execute_result",
          "data": {
            "text/plain": [
              "array([[1, 2, 3],\n",
              "       [2, 3, 4],\n",
              "       [3, 4, 5]])"
            ]
          },
          "metadata": {},
          "execution_count": 22
        }
      ]
    },
    {
      "cell_type": "code",
      "source": [
        "type(arr)"
      ],
      "metadata": {
        "colab": {
          "base_uri": "https://localhost:8080/"
        },
        "id": "RlUzaGEPhmlI",
        "outputId": "c010a3ed-66c2-4cfd-e56f-b41dfb25aa62"
      },
      "execution_count": null,
      "outputs": [
        {
          "output_type": "execute_result",
          "data": {
            "text/plain": [
              "numpy.ndarray"
            ]
          },
          "metadata": {},
          "execution_count": 23
        }
      ]
    },
    {
      "cell_type": "code",
      "source": [
        "arr.ndim\n"
      ],
      "metadata": {
        "colab": {
          "base_uri": "https://localhost:8080/"
        },
        "id": "xmNHjM7qhmTV",
        "outputId": "161f2234-0abe-4a5a-80ef-ff493ab54780"
      },
      "execution_count": null,
      "outputs": [
        {
          "output_type": "execute_result",
          "data": {
            "text/plain": [
              "2"
            ]
          },
          "metadata": {},
          "execution_count": 24
        }
      ]
    },
    {
      "cell_type": "code",
      "source": [
        "arr.shape"
      ],
      "metadata": {
        "colab": {
          "base_uri": "https://localhost:8080/"
        },
        "id": "ijUqoQh5kLVK",
        "outputId": "2639ab84-f7c2-4af4-bf5b-890ed9f0dd3d"
      },
      "execution_count": null,
      "outputs": [
        {
          "output_type": "execute_result",
          "data": {
            "text/plain": [
              "(3, 3)"
            ]
          },
          "metadata": {},
          "execution_count": 25
        }
      ]
    },
    {
      "cell_type": "code",
      "source": [
        "arr.size"
      ],
      "metadata": {
        "colab": {
          "base_uri": "https://localhost:8080/"
        },
        "id": "gRW-b63rkLR6",
        "outputId": "95073d5e-5993-4413-ef43-4b2204e7e45d"
      },
      "execution_count": null,
      "outputs": [
        {
          "output_type": "execute_result",
          "data": {
            "text/plain": [
              "9"
            ]
          },
          "metadata": {},
          "execution_count": 26
        }
      ]
    },
    {
      "cell_type": "code",
      "source": [
        "arr.dtype"
      ],
      "metadata": {
        "colab": {
          "base_uri": "https://localhost:8080/"
        },
        "id": "RuM_UfMBkTZy",
        "outputId": "e7e38550-b032-475b-a322-ca02d909f52c"
      },
      "execution_count": null,
      "outputs": [
        {
          "output_type": "execute_result",
          "data": {
            "text/plain": [
              "dtype('int64')"
            ]
          },
          "metadata": {},
          "execution_count": 27
        }
      ]
    },
    {
      "cell_type": "code",
      "source": [
        "zeros=np.zeros((5,3))"
      ],
      "metadata": {
        "id": "_-t6PR7PkLOj"
      },
      "execution_count": null,
      "outputs": []
    },
    {
      "cell_type": "code",
      "source": [
        "zeros"
      ],
      "metadata": {
        "colab": {
          "base_uri": "https://localhost:8080/"
        },
        "id": "9M-_l1aHkLL9",
        "outputId": "4167e305-e08d-402d-c728-627c2a2dbbe6"
      },
      "execution_count": null,
      "outputs": [
        {
          "output_type": "execute_result",
          "data": {
            "text/plain": [
              "array([[0., 0., 0.],\n",
              "       [0., 0., 0.],\n",
              "       [0., 0., 0.],\n",
              "       [0., 0., 0.],\n",
              "       [0., 0., 0.]])"
            ]
          },
          "metadata": {},
          "execution_count": 31
        }
      ]
    },
    {
      "cell_type": "code",
      "source": [
        "ones=np.ones((6,3))\n",
        "ones"
      ],
      "metadata": {
        "colab": {
          "base_uri": "https://localhost:8080/"
        },
        "id": "ugYI-C-bkLIe",
        "outputId": "a3db693f-ac24-4617-aac1-1c5f72acfaad"
      },
      "execution_count": null,
      "outputs": [
        {
          "output_type": "execute_result",
          "data": {
            "text/plain": [
              "array([[1., 1., 1.],\n",
              "       [1., 1., 1.],\n",
              "       [1., 1., 1.],\n",
              "       [1., 1., 1.],\n",
              "       [1., 1., 1.],\n",
              "       [1., 1., 1.]])"
            ]
          },
          "metadata": {},
          "execution_count": 33
        }
      ]
    },
    {
      "cell_type": "markdown",
      "source": [
        "1. Coverting a List to Array"
      ],
      "metadata": {
        "id": "NYE6ueiQLZNJ"
      }
    },
    {
      "cell_type": "code",
      "source": [
        "import numpy as np\n",
        "\n",
        "lst=[1,2,3,4,5,5]\n",
        "print(type(lst))\n",
        "arr=np.array(lst)\n",
        "print(type(arr))"
      ],
      "metadata": {
        "id": "wJrRQwpjkLEd",
        "colab": {
          "base_uri": "https://localhost:8080/"
        },
        "outputId": "92263a06-edf8-4130-d9db-8ad94b989820"
      },
      "execution_count": null,
      "outputs": [
        {
          "output_type": "stream",
          "name": "stdout",
          "text": [
            "<class 'list'>\n",
            "<class 'numpy.ndarray'>\n"
          ]
        }
      ]
    },
    {
      "cell_type": "code",
      "source": [
        "arr"
      ],
      "metadata": {
        "colab": {
          "base_uri": "https://localhost:8080/"
        },
        "id": "j3a-AWt2R9tM",
        "outputId": "fe4cdbee-f9b3-41bb-a546-0c54f397cb5e"
      },
      "execution_count": null,
      "outputs": [
        {
          "output_type": "execute_result",
          "data": {
            "text/plain": [
              "array([1, 2, 3, 4, 5, 5])"
            ]
          },
          "metadata": {},
          "execution_count": 6
        }
      ]
    },
    {
      "cell_type": "code",
      "source": [
        "arr=np.array(lst,ndmin=1)"
      ],
      "metadata": {
        "id": "bewFiH__R9pv"
      },
      "execution_count": null,
      "outputs": []
    },
    {
      "cell_type": "code",
      "source": [
        "arr=np.array(lst,ndmin=5)"
      ],
      "metadata": {
        "id": "wrO5nTgpR9jk"
      },
      "execution_count": null,
      "outputs": []
    },
    {
      "cell_type": "code",
      "source": [
        "arr\n"
      ],
      "metadata": {
        "colab": {
          "base_uri": "https://localhost:8080/"
        },
        "id": "CVwqpWnXSWM3",
        "outputId": "0e5ec57b-f853-43f1-9ca6-8f43e96751da"
      },
      "execution_count": null,
      "outputs": [
        {
          "output_type": "execute_result",
          "data": {
            "text/plain": [
              "array([[[[[1, 2, 3, 4, 5, 5]]]]])"
            ]
          },
          "metadata": {},
          "execution_count": 13
        }
      ]
    },
    {
      "cell_type": "markdown",
      "source": [
        "2. Arrange function\n",
        "The arange([start,] stop[, step,][, dtype]) : Returns an array with evenly spaced elements as per the interval. The interval mentioned is half-opened i.e. [Start, Stop)"
      ],
      "metadata": {
        "id": "dbcc1EYJLPM9"
      }
    },
    {
      "cell_type": "code",
      "source": [
        "for i in range(1,10,2):\n",
        "  print(i)"
      ],
      "metadata": {
        "colab": {
          "base_uri": "https://localhost:8080/"
        },
        "id": "oF6hZ8HDR9fA",
        "outputId": "5257a4a6-c25c-443c-f738-385f28967361"
      },
      "execution_count": null,
      "outputs": [
        {
          "output_type": "stream",
          "name": "stdout",
          "text": [
            "1\n",
            "3\n",
            "5\n",
            "7\n",
            "9\n"
          ]
        }
      ]
    },
    {
      "cell_type": "code",
      "source": [
        "np.arange(10)"
      ],
      "metadata": {
        "colab": {
          "base_uri": "https://localhost:8080/"
        },
        "id": "Qs7ZuCJ4R9ah",
        "outputId": "ef89d30a-f57d-4dc5-ac44-96833b676a04"
      },
      "execution_count": null,
      "outputs": [
        {
          "output_type": "execute_result",
          "data": {
            "text/plain": [
              "array([0, 1, 2, 3, 4, 5, 6, 7, 8, 9])"
            ]
          },
          "metadata": {},
          "execution_count": 22
        }
      ]
    },
    {
      "cell_type": "code",
      "source": [
        "np.arange(3,9)"
      ],
      "metadata": {
        "colab": {
          "base_uri": "https://localhost:8080/"
        },
        "id": "mwny5QcqR9Wa",
        "outputId": "fcae6c66-97eb-494b-abb8-404381d05fd5"
      },
      "execution_count": null,
      "outputs": [
        {
          "output_type": "execute_result",
          "data": {
            "text/plain": [
              "array([3, 4, 5, 6, 7, 8])"
            ]
          },
          "metadata": {},
          "execution_count": 23
        }
      ]
    },
    {
      "cell_type": "code",
      "source": [
        "np.arange(2,21,2)"
      ],
      "metadata": {
        "colab": {
          "base_uri": "https://localhost:8080/"
        },
        "id": "_1o0B-1cR9S7",
        "outputId": "b0511c4f-482a-416e-ad01-9404a0d43811"
      },
      "execution_count": null,
      "outputs": [
        {
          "output_type": "execute_result",
          "data": {
            "text/plain": [
              "array([ 2,  4,  6,  8, 10, 12, 14, 16, 18, 20])"
            ]
          },
          "metadata": {},
          "execution_count": 27
        }
      ]
    },
    {
      "cell_type": "markdown",
      "source": [
        "2.MULTIDIMENSIONAL ARRAY"
      ],
      "metadata": {
        "id": "BD6jEhpcXI3m"
      }
    },
    {
      "cell_type": "code",
      "source": [
        "arr=np.array([[1,2,3],[4,5,6],[7,8,9]])\n",
        "arr"
      ],
      "metadata": {
        "colab": {
          "base_uri": "https://localhost:8080/"
        },
        "id": "4KFSrSyDR9OC",
        "outputId": "2d94f69b-35fb-4359-be72-e615cb46bbc2"
      },
      "execution_count": null,
      "outputs": [
        {
          "output_type": "execute_result",
          "data": {
            "text/plain": [
              "array([[1, 2, 3],\n",
              "       [4, 5, 6],\n",
              "       [7, 8, 9]])"
            ]
          },
          "metadata": {},
          "execution_count": 28
        }
      ]
    },
    {
      "cell_type": "markdown",
      "source": [
        "3.SIZE FUNCTION:In Python, numpy.size() function count the number of elements along a given axis (0 - Rows | 1 - Columns)"
      ],
      "metadata": {
        "id": "XNWFaZBgWfQu"
      }
    },
    {
      "cell_type": "code",
      "source": [
        "arr=np.array([[1,2,3],[4,5,6],[7,8,9]])\n",
        "arr.size"
      ],
      "metadata": {
        "colab": {
          "base_uri": "https://localhost:8080/"
        },
        "id": "XqaB509yR9FI",
        "outputId": "0758996b-12a8-4f03-a3ea-3fefa3f8678f"
      },
      "execution_count": null,
      "outputs": [
        {
          "output_type": "execute_result",
          "data": {
            "text/plain": [
              "9"
            ]
          },
          "metadata": {},
          "execution_count": 29
        }
      ]
    },
    {
      "cell_type": "code",
      "source": [
        "arr=np.array([[1,2,3],[4,5,6],[7,8,9],[1,2,3]])\n",
        "print('Total:',arr.size)\n",
        "print('Rows:',np.size(arr,0))\n",
        "print('Cols:',np.size(arr,1))"
      ],
      "metadata": {
        "colab": {
          "base_uri": "https://localhost:8080/"
        },
        "id": "jRV222c5R8_K",
        "outputId": "b4b98df6-9038-442f-f4c3-b97e3c5e6448"
      },
      "execution_count": null,
      "outputs": [
        {
          "output_type": "stream",
          "name": "stdout",
          "text": [
            "Total: 12\n",
            "Rows: 4\n",
            "Cols: 3\n"
          ]
        }
      ]
    },
    {
      "cell_type": "markdown",
      "source": [
        "4.SHAPE FUNCTION:The shape of an array can be defined as the number of elements in each dimension. Dimension is the number of indices or subscripts, that we require in order to specify an individual element of an array.\n"
      ],
      "metadata": {
        "id": "WYB864VPWWaq"
      }
    },
    {
      "cell_type": "code",
      "source": [
        "arr = np.array([[1,2,3],[4,5,6],[7,8,9],[1,2,3]])\n",
        "\n",
        "print((np.size(arr,0),np.size(arr,1)))\n",
        "\n",
        "print(arr.shape)"
      ],
      "metadata": {
        "colab": {
          "base_uri": "https://localhost:8080/"
        },
        "id": "xlNPOkI9R85L",
        "outputId": "0bd7268b-3870-4a04-be25-396ebd2a7eea"
      },
      "execution_count": null,
      "outputs": [
        {
          "output_type": "stream",
          "name": "stdout",
          "text": [
            "(4, 3)\n",
            "(4, 3)\n"
          ]
        }
      ]
    },
    {
      "cell_type": "markdown",
      "source": [
        "5.DATA TYPE FUNCTION: Every ndarray has an associated data type (dtype) object. This data type object (dtype) informs us about the layout of the array. This means it gives us information about:\n",
        "\n",
        "*   Type of the data (integer, float, Python object, etc.)\n",
        "\n",
        "*   Size of the data (number of bytes)\n",
        "\n",
        "* The byte order of the data (little-endian or big-endian)\n",
        "*  If the data type is a sub-array, what is its shape and data type?\n",
        "\n",
        "\n",
        "\n",
        "\n",
        "\n",
        "\n"
      ],
      "metadata": {
        "id": "CrVZERjzEtlv"
      }
    },
    {
      "cell_type": "code",
      "source": [
        "import numpy as np\n",
        "arr1=np.array([1,2,3,4,5])\n",
        "arr2=np.array([1.3,2.3,3.1,4.5])\n",
        "print(arr1)\n",
        "print(arr2)\n",
        "print(arr1.dtype)\n",
        "print(arr2.dtype)"
      ],
      "metadata": {
        "colab": {
          "base_uri": "https://localhost:8080/"
        },
        "id": "TRexzmu4R80n",
        "outputId": "7e3917b0-cfbd-4e2a-a31c-fc52b91e6d6f"
      },
      "execution_count": null,
      "outputs": [
        {
          "output_type": "stream",
          "name": "stdout",
          "text": [
            "[1 2 3 4 5]\n",
            "[1.3 2.3 3.1 4.5]\n",
            "int64\n",
            "float64\n"
          ]
        }
      ]
    },
    {
      "cell_type": "markdown",
      "source": [
        "6.Ndim Function: numpy.ndarray.ndim() function return the number of dimensions of an array."
      ],
      "metadata": {
        "id": "ru6MqWyLGc84"
      }
    },
    {
      "cell_type": "code",
      "source": [
        "arr1=np.array([1,2,3,1,2,3])\n",
        "arr2=np.array([[1,2,3],[3,2,1]])\n",
        "print(arr1.ndim)\n",
        "print(arr2.ndim)\n",
        "arr3=np.array(arr1,ndmin=4)\n",
        "print(arr3.ndim)\n"
      ],
      "metadata": {
        "colab": {
          "base_uri": "https://localhost:8080/"
        },
        "id": "rQ4G9uO-R8oP",
        "outputId": "433284da-eef4-4c0a-cbca-e26aee153579"
      },
      "execution_count": null,
      "outputs": [
        {
          "output_type": "stream",
          "name": "stdout",
          "text": [
            "1\n",
            "2\n",
            "4\n"
          ]
        }
      ]
    },
    {
      "cell_type": "markdown",
      "source": [
        "7.Zeros  Function:\n",
        "The numpy.zeros() function returns a new array of given shape and type, with zeros. Syntax:\n",
        "\n",
        "numpy.zeros(shape, dtype = None)"
      ],
      "metadata": {
        "id": "2SpkQoVFHwPI"
      }
    },
    {
      "cell_type": "code",
      "source": [
        "arr = np.zeros(shape = (3,5), dtype = int)\n",
        "\n",
        "print(arr)"
      ],
      "metadata": {
        "id": "M24P0qK0kK66",
        "colab": {
          "base_uri": "https://localhost:8080/"
        },
        "outputId": "a0bb6de2-466a-4dd0-fdf3-3c74d7ca2e57"
      },
      "execution_count": null,
      "outputs": [
        {
          "output_type": "stream",
          "name": "stdout",
          "text": [
            "[[0 0 0 0 0]\n",
            " [0 0 0 0 0]\n",
            " [0 0 0 0 0]]\n"
          ]
        }
      ]
    },
    {
      "cell_type": "markdown",
      "source": [
        "8.Ones  Function:\n",
        "The numpy.ones() function returns a new array of given shape and type, with ones.\n",
        "\n",
        "Syntax: numpy.ones(shape, dtype = None)"
      ],
      "metadata": {
        "id": "cL8kbmKuKNEA"
      }
    },
    {
      "cell_type": "code",
      "source": [
        "arr=np.ones(shape=(3,5),dtype=int)\n",
        "print(arr)"
      ],
      "metadata": {
        "id": "oodysekGkKr7",
        "colab": {
          "base_uri": "https://localhost:8080/"
        },
        "outputId": "c7f9828a-239b-47d0-a7b7-0e442ed19bea"
      },
      "execution_count": null,
      "outputs": [
        {
          "output_type": "stream",
          "name": "stdout",
          "text": [
            "[[1 1 1 1 1]\n",
            " [1 1 1 1 1]\n",
            " [1 1 1 1 1]]\n"
          ]
        }
      ]
    },
    {
      "cell_type": "markdown",
      "source": [
        "9. Eye  Function\n",
        "The eye tool returns a 2-D array with  1’s as the diagonal and  0’s elsewhere. The diagonal can be main, upper, or lower depending on the optional parameter k."
      ],
      "metadata": {
        "id": "XymajIkZKreu"
      }
    },
    {
      "cell_type": "code",
      "source": [
        "np.eye(20,dtype=int)"
      ],
      "metadata": {
        "colab": {
          "base_uri": "https://localhost:8080/"
        },
        "id": "aCmWcQUEKvOP",
        "outputId": "0495dcc0-bb7f-4beb-dda1-8497a88c6eba"
      },
      "execution_count": null,
      "outputs": [
        {
          "output_type": "execute_result",
          "data": {
            "text/plain": [
              "array([[1, 0, 0, 0, 0, 0, 0, 0, 0, 0, 0, 0, 0, 0, 0, 0, 0, 0, 0, 0],\n",
              "       [0, 1, 0, 0, 0, 0, 0, 0, 0, 0, 0, 0, 0, 0, 0, 0, 0, 0, 0, 0],\n",
              "       [0, 0, 1, 0, 0, 0, 0, 0, 0, 0, 0, 0, 0, 0, 0, 0, 0, 0, 0, 0],\n",
              "       [0, 0, 0, 1, 0, 0, 0, 0, 0, 0, 0, 0, 0, 0, 0, 0, 0, 0, 0, 0],\n",
              "       [0, 0, 0, 0, 1, 0, 0, 0, 0, 0, 0, 0, 0, 0, 0, 0, 0, 0, 0, 0],\n",
              "       [0, 0, 0, 0, 0, 1, 0, 0, 0, 0, 0, 0, 0, 0, 0, 0, 0, 0, 0, 0],\n",
              "       [0, 0, 0, 0, 0, 0, 1, 0, 0, 0, 0, 0, 0, 0, 0, 0, 0, 0, 0, 0],\n",
              "       [0, 0, 0, 0, 0, 0, 0, 1, 0, 0, 0, 0, 0, 0, 0, 0, 0, 0, 0, 0],\n",
              "       [0, 0, 0, 0, 0, 0, 0, 0, 1, 0, 0, 0, 0, 0, 0, 0, 0, 0, 0, 0],\n",
              "       [0, 0, 0, 0, 0, 0, 0, 0, 0, 1, 0, 0, 0, 0, 0, 0, 0, 0, 0, 0],\n",
              "       [0, 0, 0, 0, 0, 0, 0, 0, 0, 0, 1, 0, 0, 0, 0, 0, 0, 0, 0, 0],\n",
              "       [0, 0, 0, 0, 0, 0, 0, 0, 0, 0, 0, 1, 0, 0, 0, 0, 0, 0, 0, 0],\n",
              "       [0, 0, 0, 0, 0, 0, 0, 0, 0, 0, 0, 0, 1, 0, 0, 0, 0, 0, 0, 0],\n",
              "       [0, 0, 0, 0, 0, 0, 0, 0, 0, 0, 0, 0, 0, 1, 0, 0, 0, 0, 0, 0],\n",
              "       [0, 0, 0, 0, 0, 0, 0, 0, 0, 0, 0, 0, 0, 0, 1, 0, 0, 0, 0, 0],\n",
              "       [0, 0, 0, 0, 0, 0, 0, 0, 0, 0, 0, 0, 0, 0, 0, 1, 0, 0, 0, 0],\n",
              "       [0, 0, 0, 0, 0, 0, 0, 0, 0, 0, 0, 0, 0, 0, 0, 0, 1, 0, 0, 0],\n",
              "       [0, 0, 0, 0, 0, 0, 0, 0, 0, 0, 0, 0, 0, 0, 0, 0, 0, 1, 0, 0],\n",
              "       [0, 0, 0, 0, 0, 0, 0, 0, 0, 0, 0, 0, 0, 0, 0, 0, 0, 0, 1, 0],\n",
              "       [0, 0, 0, 0, 0, 0, 0, 0, 0, 0, 0, 0, 0, 0, 0, 0, 0, 0, 0, 1]])"
            ]
          },
          "metadata": {},
          "execution_count": 27
        }
      ]
    },
    {
      "cell_type": "markdown",
      "source": [
        "10. Empty  Function\n",
        "Return am empty array of given shape and type"
      ],
      "metadata": {
        "id": "GaGq41VBLu_R"
      }
    },
    {
      "cell_type": "code",
      "source": [
        "np.empty(shape = (5,5),dtype=int)"
      ],
      "metadata": {
        "colab": {
          "base_uri": "https://localhost:8080/"
        },
        "id": "A0H1Se2YLzVn",
        "outputId": "6910ad90-1975-4e89-d938-d46269bb02ec"
      },
      "execution_count": null,
      "outputs": [
        {
          "output_type": "execute_result",
          "data": {
            "text/plain": [
              "array([[          300721373,                   0, 8315175953951126625,\n",
              "        7305437195595773728, 7310597220861960992],\n",
              "       [2314885530817014884, 8098988873639534624, 7526676553110265972,\n",
              "        7810207576584713071, 2336920844496102517],\n",
              "       [7454127125254727796, 2308708836584025461, 7233190455505068064,\n",
              "        7594230305676948577, 7598822093864334435],\n",
              "       [2314885437608521327, 7214838209281269792, 8241990217854378857,\n",
              "        8387229866972356729, 8031079638444893281],\n",
              "       [7019250824563089696, 2335244403110602100, 8103230749691701364,\n",
              "            131941566149749,                 256]])"
            ]
          },
          "metadata": {},
          "execution_count": 32
        }
      ]
    },
    {
      "cell_type": "markdown",
      "source": [
        "11. Random  Functions"
      ],
      "metadata": {
        "id": "JM2n4-dKMJsq"
      }
    },
    {
      "cell_type": "markdown",
      "source": [
        "a)np.random.rand:\n",
        "The numpy.random.rand() function creates an array of specified shape and fills it with random values."
      ],
      "metadata": {
        "id": "GbfPQF2GRKxv"
      }
    },
    {
      "cell_type": "code",
      "source": [
        "np.random.rand(3,4)"
      ],
      "metadata": {
        "colab": {
          "base_uri": "https://localhost:8080/"
        },
        "id": "dJJI_eVGLztW",
        "outputId": "01dd0052-46dd-43b2-ca62-d07591cd112b"
      },
      "execution_count": null,
      "outputs": [
        {
          "output_type": "execute_result",
          "data": {
            "text/plain": [
              "array([[0.89145948, 0.72705973, 0.10902263, 0.31395549],\n",
              "       [0.94042599, 0.63614717, 0.40749637, 0.69147843],\n",
              "       [0.13844398, 0.11996105, 0.16361448, 0.98057303]])"
            ]
          },
          "metadata": {},
          "execution_count": 36
        }
      ]
    },
    {
      "cell_type": "markdown",
      "source": [
        "b) np.random.randint:\n",
        "numpy.random.randint() is one of the function for doing random sampling in numpy. It returns an array of specified shape and fills it with random integers from low (inclusive) to high (exclusive), i.e. in the interval [low, high)."
      ],
      "metadata": {
        "id": "dz7jhle0RX8X"
      }
    },
    {
      "cell_type": "code",
      "source": [
        "np.random.randint(low=1,high=10,size=10)"
      ],
      "metadata": {
        "colab": {
          "base_uri": "https://localhost:8080/"
        },
        "id": "ItQNqXECLzv5",
        "outputId": "ac56928a-4b37-4c42-ac87-90d43fd56a22"
      },
      "execution_count": null,
      "outputs": [
        {
          "output_type": "execute_result",
          "data": {
            "text/plain": [
              "array([7, 8, 5, 2, 3, 5, 6, 3, 5, 3])"
            ]
          },
          "metadata": {},
          "execution_count": 40
        }
      ]
    },
    {
      "cell_type": "markdown",
      "source": [
        "c) np.random.randn:\n",
        "The numpy.random.randn() function creates an array of specified shape and fills it with random values as per standard normal distribution."
      ],
      "metadata": {
        "id": "CE7x_LeYSH-m"
      }
    },
    {
      "cell_type": "code",
      "source": [
        "plott=np.random.randn(10000000)\n"
      ],
      "metadata": {
        "id": "-cL8rO2TLz4h"
      },
      "execution_count": null,
      "outputs": []
    },
    {
      "cell_type": "code",
      "source": [
        "import matplotlib.pyplot as plt\n",
        "%matplotlib inline\n",
        "plt.hist(plott,bins=1000)\n"
      ],
      "metadata": {
        "colab": {
          "base_uri": "https://localhost:8080/",
          "height": 1000
        },
        "id": "1XYgW_hwSmnp",
        "outputId": "174917c4-f8a1-4ccf-e8f1-b5d3cc314683"
      },
      "execution_count": null,
      "outputs": [
        {
          "output_type": "execute_result",
          "data": {
            "text/plain": [
              "(array([1.0000e+00, 0.0000e+00, 0.0000e+00, 0.0000e+00, 0.0000e+00,\n",
              "        0.0000e+00, 0.0000e+00, 0.0000e+00, 0.0000e+00, 0.0000e+00,\n",
              "        0.0000e+00, 0.0000e+00, 0.0000e+00, 0.0000e+00, 0.0000e+00,\n",
              "        0.0000e+00, 0.0000e+00, 0.0000e+00, 0.0000e+00, 0.0000e+00,\n",
              "        1.0000e+00, 0.0000e+00, 0.0000e+00, 0.0000e+00, 0.0000e+00,\n",
              "        1.0000e+00, 0.0000e+00, 0.0000e+00, 1.0000e+00, 0.0000e+00,\n",
              "        1.0000e+00, 0.0000e+00, 0.0000e+00, 1.0000e+00, 1.0000e+00,\n",
              "        1.0000e+00, 0.0000e+00, 0.0000e+00, 0.0000e+00, 1.0000e+00,\n",
              "        0.0000e+00, 2.0000e+00, 0.0000e+00, 0.0000e+00, 0.0000e+00,\n",
              "        0.0000e+00, 0.0000e+00, 1.0000e+00, 0.0000e+00, 0.0000e+00,\n",
              "        1.0000e+00, 2.0000e+00, 0.0000e+00, 1.0000e+00, 1.0000e+00,\n",
              "        0.0000e+00, 1.0000e+00, 0.0000e+00, 0.0000e+00, 2.0000e+00,\n",
              "        0.0000e+00, 3.0000e+00, 3.0000e+00, 2.0000e+00, 6.0000e+00,\n",
              "        3.0000e+00, 1.0000e+00, 2.0000e+00, 2.0000e+00, 1.0000e+00,\n",
              "        3.0000e+00, 2.0000e+00, 1.0000e+00, 3.0000e+00, 2.0000e+00,\n",
              "        2.0000e+00, 5.0000e+00, 4.0000e+00, 1.0000e+00, 4.0000e+00,\n",
              "        4.0000e+00, 1.0000e+00, 3.0000e+00, 4.0000e+00, 3.0000e+00,\n",
              "        5.0000e+00, 1.0000e+00, 1.0000e+00, 3.0000e+00, 6.0000e+00,\n",
              "        4.0000e+00, 4.0000e+00, 6.0000e+00, 8.0000e+00, 5.0000e+00,\n",
              "        1.0000e+01, 8.0000e+00, 8.0000e+00, 8.0000e+00, 7.0000e+00,\n",
              "        9.0000e+00, 1.0000e+01, 7.0000e+00, 1.0000e+01, 1.1000e+01,\n",
              "        9.0000e+00, 9.0000e+00, 1.7000e+01, 1.0000e+01, 5.0000e+00,\n",
              "        9.0000e+00, 9.0000e+00, 1.3000e+01, 1.3000e+01, 1.3000e+01,\n",
              "        1.2000e+01, 2.0000e+01, 1.7000e+01, 1.5000e+01, 1.5000e+01,\n",
              "        1.6000e+01, 1.2000e+01, 2.3000e+01, 1.7000e+01, 2.3000e+01,\n",
              "        1.6000e+01, 2.8000e+01, 2.7000e+01, 1.9000e+01, 2.1000e+01,\n",
              "        2.9000e+01, 2.6000e+01, 2.7000e+01, 3.4000e+01, 3.2000e+01,\n",
              "        2.6000e+01, 3.0000e+01, 3.6000e+01, 3.5000e+01, 3.8000e+01,\n",
              "        3.7000e+01, 4.1000e+01, 3.7000e+01, 3.8000e+01, 5.4000e+01,\n",
              "        4.8000e+01, 4.9000e+01, 4.9000e+01, 4.1000e+01, 5.5000e+01,\n",
              "        5.9000e+01, 5.1000e+01, 5.5000e+01, 5.1000e+01, 7.3000e+01,\n",
              "        5.4000e+01, 5.8000e+01, 7.0000e+01, 7.6000e+01, 5.8000e+01,\n",
              "        7.5000e+01, 8.2000e+01, 8.6000e+01, 9.2000e+01, 8.2000e+01,\n",
              "        9.5000e+01, 1.0500e+02, 1.0200e+02, 1.2000e+02, 1.1800e+02,\n",
              "        1.1000e+02, 1.0800e+02, 1.3000e+02, 9.6000e+01, 1.3600e+02,\n",
              "        1.2500e+02, 1.4100e+02, 1.5300e+02, 1.6600e+02, 1.4000e+02,\n",
              "        1.6800e+02, 1.8700e+02, 1.5300e+02, 1.5500e+02, 1.6200e+02,\n",
              "        1.8100e+02, 2.0100e+02, 1.9800e+02, 2.1900e+02, 2.0200e+02,\n",
              "        2.0800e+02, 2.4100e+02, 2.2900e+02, 2.6500e+02, 2.5800e+02,\n",
              "        2.6100e+02, 2.8400e+02, 2.8000e+02, 2.9400e+02, 2.8900e+02,\n",
              "        3.2900e+02, 3.1600e+02, 3.2400e+02, 3.3000e+02, 3.1100e+02,\n",
              "        3.8100e+02, 3.9200e+02, 3.9000e+02, 3.7000e+02, 4.0800e+02,\n",
              "        4.3000e+02, 4.6800e+02, 4.1200e+02, 4.5000e+02, 5.1400e+02,\n",
              "        4.7800e+02, 5.2500e+02, 5.1700e+02, 5.5400e+02, 5.5000e+02,\n",
              "        5.7300e+02, 5.5700e+02, 5.7000e+02, 6.2000e+02, 6.1900e+02,\n",
              "        6.5300e+02, 6.9900e+02, 6.6600e+02, 7.5500e+02, 7.1800e+02,\n",
              "        7.4900e+02, 8.1000e+02, 8.1400e+02, 8.3100e+02, 8.6400e+02,\n",
              "        8.6100e+02, 9.1200e+02, 9.2400e+02, 9.4500e+02, 9.6500e+02,\n",
              "        1.0160e+03, 1.0140e+03, 1.0450e+03, 1.1190e+03, 1.1600e+03,\n",
              "        1.1720e+03, 1.1750e+03, 1.2970e+03, 1.2490e+03, 1.3610e+03,\n",
              "        1.3760e+03, 1.3990e+03, 1.4160e+03, 1.5140e+03, 1.4410e+03,\n",
              "        1.5140e+03, 1.5750e+03, 1.6520e+03, 1.6430e+03, 1.6510e+03,\n",
              "        1.7710e+03, 1.8080e+03, 1.8070e+03, 1.8240e+03, 1.9540e+03,\n",
              "        1.9290e+03, 2.0240e+03, 2.0580e+03, 2.1510e+03, 2.2090e+03,\n",
              "        2.2850e+03, 2.2590e+03, 2.2880e+03, 2.4280e+03, 2.4060e+03,\n",
              "        2.5620e+03, 2.5890e+03, 2.6720e+03, 2.7660e+03, 2.7900e+03,\n",
              "        2.9040e+03, 2.8700e+03, 2.9440e+03, 3.0080e+03, 2.9670e+03,\n",
              "        3.1330e+03, 3.1880e+03, 3.3460e+03, 3.4620e+03, 3.5240e+03,\n",
              "        3.5530e+03, 3.7230e+03, 3.8050e+03, 3.7060e+03, 3.9070e+03,\n",
              "        4.0050e+03, 4.0560e+03, 4.0360e+03, 4.2150e+03, 4.3240e+03,\n",
              "        4.5550e+03, 4.5670e+03, 4.5560e+03, 4.6680e+03, 4.8620e+03,\n",
              "        4.9340e+03, 5.0080e+03, 5.0510e+03, 5.2800e+03, 5.3330e+03,\n",
              "        5.3530e+03, 5.4960e+03, 5.7680e+03, 5.8300e+03, 5.9680e+03,\n",
              "        6.0280e+03, 6.2550e+03, 6.3670e+03, 6.4540e+03, 6.5020e+03,\n",
              "        6.8800e+03, 6.7750e+03, 7.0010e+03, 7.0190e+03, 7.2130e+03,\n",
              "        7.3590e+03, 7.6350e+03, 7.6620e+03, 7.8700e+03, 7.9390e+03,\n",
              "        8.2700e+03, 8.2900e+03, 8.3920e+03, 8.3990e+03, 8.6610e+03,\n",
              "        8.8530e+03, 9.0570e+03, 9.2140e+03, 9.3360e+03, 9.5700e+03,\n",
              "        9.6690e+03, 9.8860e+03, 9.9580e+03, 1.0208e+04, 1.0411e+04,\n",
              "        1.0487e+04, 1.0964e+04, 1.0996e+04, 1.1139e+04, 1.1322e+04,\n",
              "        1.1597e+04, 1.1589e+04, 1.1963e+04, 1.2054e+04, 1.2159e+04,\n",
              "        1.2463e+04, 1.2769e+04, 1.2984e+04, 1.3209e+04, 1.3151e+04,\n",
              "        1.3416e+04, 1.3724e+04, 1.3913e+04, 1.4075e+04, 1.4302e+04,\n",
              "        1.4506e+04, 1.4676e+04, 1.4911e+04, 1.5113e+04, 1.5660e+04,\n",
              "        1.5882e+04, 1.5928e+04, 1.5861e+04, 1.6414e+04, 1.6428e+04,\n",
              "        1.6655e+04, 1.6858e+04, 1.6981e+04, 1.7640e+04, 1.7719e+04,\n",
              "        1.7702e+04, 1.8345e+04, 1.8280e+04, 1.8604e+04, 1.8846e+04,\n",
              "        1.9118e+04, 1.9375e+04, 1.9357e+04, 1.9626e+04, 2.0058e+04,\n",
              "        2.0486e+04, 2.0288e+04, 2.0625e+04, 2.1024e+04, 2.1308e+04,\n",
              "        2.1420e+04, 2.1904e+04, 2.1974e+04, 2.2231e+04, 2.2385e+04,\n",
              "        2.2645e+04, 2.3191e+04, 2.3608e+04, 2.3616e+04, 2.3641e+04,\n",
              "        2.4380e+04, 2.4409e+04, 2.4484e+04, 2.4688e+04, 2.4952e+04,\n",
              "        2.5372e+04, 2.5772e+04, 2.5866e+04, 2.6008e+04, 2.6249e+04,\n",
              "        2.6455e+04, 2.6842e+04, 2.6959e+04, 2.7436e+04, 2.7660e+04,\n",
              "        2.7902e+04, 2.8057e+04, 2.8227e+04, 2.8573e+04, 2.8861e+04,\n",
              "        2.8894e+04, 2.9176e+04, 2.9253e+04, 2.9611e+04, 3.0124e+04,\n",
              "        3.0525e+04, 3.0689e+04, 3.1166e+04, 3.1131e+04, 3.1633e+04,\n",
              "        3.1719e+04, 3.1662e+04, 3.2053e+04, 3.2002e+04, 3.2446e+04,\n",
              "        3.2510e+04, 3.3065e+04, 3.3303e+04, 3.2874e+04, 3.3724e+04,\n",
              "        3.3597e+04, 3.3856e+04, 3.3926e+04, 3.4155e+04, 3.4611e+04,\n",
              "        3.5180e+04, 3.4856e+04, 3.5636e+04, 3.5574e+04, 3.5580e+04,\n",
              "        3.5817e+04, 3.5863e+04, 3.6381e+04, 3.6381e+04, 3.6721e+04,\n",
              "        3.6665e+04, 3.6989e+04, 3.7062e+04, 3.7313e+04, 3.7413e+04,\n",
              "        3.7473e+04, 3.7474e+04, 3.7858e+04, 3.7890e+04, 3.8090e+04,\n",
              "        3.8600e+04, 3.8214e+04, 3.8809e+04, 3.8863e+04, 3.8817e+04,\n",
              "        3.8768e+04, 3.9169e+04, 3.9175e+04, 3.9284e+04, 3.9231e+04,\n",
              "        3.9573e+04, 3.9823e+04, 3.9787e+04, 3.9838e+04, 4.0001e+04,\n",
              "        3.9852e+04, 4.0101e+04, 4.0280e+04, 4.0585e+04, 4.0415e+04,\n",
              "        4.0379e+04, 4.0342e+04, 4.0425e+04, 4.0763e+04, 4.0924e+04,\n",
              "        4.0630e+04, 4.0883e+04, 4.0783e+04, 4.1097e+04, 4.1066e+04,\n",
              "        4.0636e+04, 4.0918e+04, 4.0866e+04, 4.1030e+04, 4.0976e+04,\n",
              "        4.0694e+04, 4.0905e+04, 4.0926e+04, 4.0886e+04, 4.0714e+04,\n",
              "        4.0638e+04, 4.0580e+04, 4.0776e+04, 4.0546e+04, 4.0489e+04,\n",
              "        4.0643e+04, 4.0955e+04, 4.0643e+04, 4.0385e+04, 4.0821e+04,\n",
              "        4.0513e+04, 4.0588e+04, 4.0058e+04, 4.0098e+04, 4.0013e+04,\n",
              "        3.9784e+04, 4.0001e+04, 3.9688e+04, 3.9911e+04, 3.9435e+04,\n",
              "        3.9456e+04, 3.9438e+04, 3.9353e+04, 3.9168e+04, 3.9062e+04,\n",
              "        3.9054e+04, 3.8265e+04, 3.8952e+04, 3.8601e+04, 3.8479e+04,\n",
              "        3.8242e+04, 3.8083e+04, 3.8100e+04, 3.7408e+04, 3.8057e+04,\n",
              "        3.7542e+04, 3.7438e+04, 3.7015e+04, 3.7411e+04, 3.7172e+04,\n",
              "        3.6743e+04, 3.6542e+04, 3.6465e+04, 3.6370e+04, 3.5837e+04,\n",
              "        3.6216e+04, 3.5800e+04, 3.5646e+04, 3.5704e+04, 3.5485e+04,\n",
              "        3.5113e+04, 3.4521e+04, 3.4517e+04, 3.4291e+04, 3.4274e+04,\n",
              "        3.4124e+04, 3.3543e+04, 3.3634e+04, 3.3331e+04, 3.2846e+04,\n",
              "        3.3144e+04, 3.2590e+04, 3.2030e+04, 3.2214e+04, 3.2022e+04,\n",
              "        3.1770e+04, 3.1153e+04, 3.1324e+04, 3.0847e+04, 3.0746e+04,\n",
              "        3.0588e+04, 3.0183e+04, 3.0180e+04, 2.9932e+04, 2.9603e+04,\n",
              "        2.9388e+04, 2.8973e+04, 2.8875e+04, 2.8205e+04, 2.8275e+04,\n",
              "        2.7870e+04, 2.7622e+04, 2.7505e+04, 2.7131e+04, 2.6967e+04,\n",
              "        2.6631e+04, 2.6781e+04, 2.6312e+04, 2.6125e+04, 2.5818e+04,\n",
              "        2.5746e+04, 2.5566e+04, 2.5353e+04, 2.4641e+04, 2.4687e+04,\n",
              "        2.3981e+04, 2.4115e+04, 2.4064e+04, 2.3360e+04, 2.3749e+04,\n",
              "        2.2975e+04, 2.2710e+04, 2.2336e+04, 2.2187e+04, 2.1886e+04,\n",
              "        2.1563e+04, 2.1769e+04, 2.1308e+04, 2.0955e+04, 2.0806e+04,\n",
              "        2.0404e+04, 2.0221e+04, 2.0180e+04, 1.9852e+04, 1.9650e+04,\n",
              "        1.9296e+04, 1.8993e+04, 1.9044e+04, 1.8657e+04, 1.8260e+04,\n",
              "        1.8095e+04, 1.7721e+04, 1.7687e+04, 1.7516e+04, 1.7114e+04,\n",
              "        1.7126e+04, 1.6682e+04, 1.6425e+04, 1.6270e+04, 1.6224e+04,\n",
              "        1.5670e+04, 1.5465e+04, 1.5636e+04, 1.5165e+04, 1.4932e+04,\n",
              "        1.4648e+04, 1.4209e+04, 1.4440e+04, 1.3982e+04, 1.3875e+04,\n",
              "        1.3731e+04, 1.3272e+04, 1.3467e+04, 1.3047e+04, 1.2868e+04,\n",
              "        1.2500e+04, 1.2229e+04, 1.2243e+04, 1.2199e+04, 1.1856e+04,\n",
              "        1.1666e+04, 1.1431e+04, 1.1267e+04, 1.1160e+04, 1.0993e+04,\n",
              "        1.0799e+04, 1.0632e+04, 1.0574e+04, 1.0226e+04, 1.0022e+04,\n",
              "        9.9960e+03, 9.6390e+03, 9.4750e+03, 9.2680e+03, 9.2610e+03,\n",
              "        8.9900e+03, 8.9340e+03, 8.6340e+03, 8.5270e+03, 8.3460e+03,\n",
              "        8.3450e+03, 8.0830e+03, 7.9240e+03, 7.7670e+03, 7.7690e+03,\n",
              "        7.5330e+03, 7.2390e+03, 7.0800e+03, 7.1800e+03, 7.1000e+03,\n",
              "        6.8940e+03, 6.8330e+03, 6.9130e+03, 6.5620e+03, 6.3350e+03,\n",
              "        6.2410e+03, 6.0440e+03, 5.8700e+03, 5.8350e+03, 5.7630e+03,\n",
              "        5.4600e+03, 5.4610e+03, 5.3980e+03, 5.1940e+03, 5.2300e+03,\n",
              "        5.0420e+03, 4.8840e+03, 4.8930e+03, 4.7660e+03, 4.6310e+03,\n",
              "        4.4560e+03, 4.5000e+03, 4.2790e+03, 4.3090e+03, 4.2180e+03,\n",
              "        4.1020e+03, 3.9840e+03, 3.9210e+03, 3.9150e+03, 3.6670e+03,\n",
              "        3.5070e+03, 3.6010e+03, 3.4500e+03, 3.3830e+03, 3.2920e+03,\n",
              "        3.1490e+03, 3.1200e+03, 3.1590e+03, 3.0470e+03, 2.9320e+03,\n",
              "        2.9750e+03, 2.7500e+03, 2.7980e+03, 2.8180e+03, 2.7090e+03,\n",
              "        2.5500e+03, 2.4220e+03, 2.3130e+03, 2.4370e+03, 2.3620e+03,\n",
              "        2.3250e+03, 2.1790e+03, 2.1340e+03, 2.1190e+03, 2.0390e+03,\n",
              "        2.0580e+03, 2.0170e+03, 1.8830e+03, 1.7860e+03, 1.8890e+03,\n",
              "        1.8530e+03, 1.7530e+03, 1.6580e+03, 1.6400e+03, 1.5560e+03,\n",
              "        1.5980e+03, 1.5150e+03, 1.5060e+03, 1.4370e+03, 1.3230e+03,\n",
              "        1.3930e+03, 1.3470e+03, 1.3110e+03, 1.2700e+03, 1.2280e+03,\n",
              "        1.1750e+03, 1.2020e+03, 1.1150e+03, 1.1050e+03, 1.0840e+03,\n",
              "        1.0400e+03, 9.8500e+02, 1.0000e+03, 8.9800e+02, 9.5500e+02,\n",
              "        9.4600e+02, 8.6500e+02, 8.2200e+02, 8.4300e+02, 8.2300e+02,\n",
              "        7.3800e+02, 7.8800e+02, 7.3400e+02, 7.2700e+02, 6.1900e+02,\n",
              "        7.2300e+02, 6.6000e+02, 6.0000e+02, 6.7300e+02, 5.7500e+02,\n",
              "        5.6600e+02, 5.9900e+02, 5.2200e+02, 5.1400e+02, 5.4900e+02,\n",
              "        5.2100e+02, 4.9400e+02, 4.6500e+02, 4.3900e+02, 4.3500e+02,\n",
              "        4.3100e+02, 3.9700e+02, 3.7300e+02, 4.1200e+02, 3.8200e+02,\n",
              "        3.7800e+02, 3.5500e+02, 3.3300e+02, 3.4900e+02, 3.1100e+02,\n",
              "        3.3200e+02, 2.9800e+02, 3.1500e+02, 2.6000e+02, 2.8800e+02,\n",
              "        2.3300e+02, 2.6100e+02, 2.7400e+02, 2.4100e+02, 2.4000e+02,\n",
              "        2.2400e+02, 2.2800e+02, 2.3600e+02, 2.1500e+02, 1.8700e+02,\n",
              "        2.0000e+02, 2.1400e+02, 1.5500e+02, 1.8400e+02, 1.8700e+02,\n",
              "        1.6500e+02, 1.4400e+02, 1.4200e+02, 1.0600e+02, 1.5600e+02,\n",
              "        1.3800e+02, 1.4800e+02, 1.2500e+02, 1.1300e+02, 1.4200e+02,\n",
              "        9.8000e+01, 8.1000e+01, 1.2500e+02, 1.1000e+02, 1.0600e+02,\n",
              "        1.0500e+02, 8.0000e+01, 9.8000e+01, 8.6000e+01, 6.9000e+01,\n",
              "        8.9000e+01, 7.1000e+01, 7.2000e+01, 7.6000e+01, 7.4000e+01,\n",
              "        6.6000e+01, 5.3000e+01, 8.0000e+01, 6.5000e+01, 6.1000e+01,\n",
              "        5.8000e+01, 5.9000e+01, 5.4000e+01, 3.9000e+01, 3.7000e+01,\n",
              "        4.0000e+01, 4.8000e+01, 4.7000e+01, 4.3000e+01, 3.5000e+01,\n",
              "        4.8000e+01, 4.0000e+01, 3.6000e+01, 2.4000e+01, 3.6000e+01,\n",
              "        3.0000e+01, 3.7000e+01, 3.5000e+01, 2.8000e+01, 2.9000e+01,\n",
              "        2.4000e+01, 2.9000e+01, 2.8000e+01, 2.2000e+01, 1.8000e+01,\n",
              "        2.1000e+01, 1.9000e+01, 1.6000e+01, 2.0000e+01, 1.2000e+01,\n",
              "        2.4000e+01, 1.7000e+01, 1.6000e+01, 2.1000e+01, 1.8000e+01,\n",
              "        9.0000e+00, 1.4000e+01, 1.0000e+01, 1.2000e+01, 1.7000e+01,\n",
              "        1.2000e+01, 1.3000e+01, 9.0000e+00, 1.3000e+01, 9.0000e+00,\n",
              "        8.0000e+00, 1.0000e+01, 1.4000e+01, 4.0000e+00, 7.0000e+00,\n",
              "        8.0000e+00, 5.0000e+00, 7.0000e+00, 8.0000e+00, 5.0000e+00,\n",
              "        7.0000e+00, 6.0000e+00, 7.0000e+00, 4.0000e+00, 3.0000e+00,\n",
              "        1.0000e+00, 1.0000e+01, 5.0000e+00, 6.0000e+00, 4.0000e+00,\n",
              "        7.0000e+00, 4.0000e+00, 5.0000e+00, 4.0000e+00, 2.0000e+00,\n",
              "        3.0000e+00, 3.0000e+00, 2.0000e+00, 3.0000e+00, 4.0000e+00,\n",
              "        3.0000e+00, 1.0000e+00, 1.0000e+00, 4.0000e+00, 4.0000e+00,\n",
              "        1.0000e+00, 3.0000e+00, 2.0000e+00, 4.0000e+00, 4.0000e+00,\n",
              "        0.0000e+00, 0.0000e+00, 0.0000e+00, 1.0000e+00, 0.0000e+00,\n",
              "        1.0000e+00, 1.0000e+00, 1.0000e+00, 0.0000e+00, 0.0000e+00,\n",
              "        2.0000e+00, 2.0000e+00, 0.0000e+00, 0.0000e+00, 1.0000e+00,\n",
              "        0.0000e+00, 0.0000e+00, 0.0000e+00, 2.0000e+00, 0.0000e+00,\n",
              "        1.0000e+00, 0.0000e+00, 0.0000e+00, 2.0000e+00, 1.0000e+00,\n",
              "        0.0000e+00, 1.0000e+00, 2.0000e+00, 2.0000e+00, 0.0000e+00,\n",
              "        1.0000e+00, 1.0000e+00, 1.0000e+00, 0.0000e+00, 0.0000e+00,\n",
              "        0.0000e+00, 0.0000e+00, 0.0000e+00, 0.0000e+00, 0.0000e+00,\n",
              "        0.0000e+00, 0.0000e+00, 0.0000e+00, 0.0000e+00, 0.0000e+00,\n",
              "        0.0000e+00, 0.0000e+00, 0.0000e+00, 0.0000e+00, 0.0000e+00,\n",
              "        0.0000e+00, 0.0000e+00, 0.0000e+00, 0.0000e+00, 1.0000e+00]),\n",
              " array([-5.1837581 , -5.17351306, -5.16326803, ...,  5.04078584,\n",
              "         5.05103088,  5.06127591]),\n",
              " <BarContainer object of 1000 artists>)"
            ]
          },
          "metadata": {},
          "execution_count": 64
        },
        {
          "output_type": "display_data",
          "data": {
            "text/plain": [
              "<Figure size 640x480 with 1 Axes>"
            ],
            "image/png": "[encoded data removed]"
          },
          "metadata": {}
        }
      ]
    },
    {
      "cell_type": "markdown",
      "source": [
        "12. Reshape function - will not alter the original data\n",
        "\n",
        "The numpy.reshape() function shapes an array without changing the data of the array.<br> It should be noted that the product if the rows and columns should be same"
      ],
      "metadata": {
        "id": "BM3Hzms8Uadn"
      }
    },
    {
      "cell_type": "code",
      "source": [
        "arr = np.random.randint(1,15,(3,4))\n",
        "\n",
        "print(arr.shape)\n",
        "arr = arr.reshape(4,3)\n",
        "print(arr.shape)\n",
        "arr = arr.reshape(6,2)\n",
        "print(arr.shape)"
      ],
      "metadata": {
        "colab": {
          "base_uri": "https://localhost:8080/"
        },
        "id": "y6kFdt3JUaDL",
        "outputId": "317becc2-5b08-4404-86bc-ab615681c192"
      },
      "execution_count": null,
      "outputs": [
        {
          "output_type": "stream",
          "name": "stdout",
          "text": [
            "(3, 4)\n",
            "(4, 3)\n",
            "(6, 2)\n"
          ]
        }
      ]
    },
    {
      "cell_type": "markdown",
      "source": [
        "13. Linspace  Function:\n",
        "The numpy.linspace() function returns number spaces evenly w.r.t interval. Similar to numpy.arange() function but instead of step it uses sample number.\n",
        "Parameters :\n",
        "\n",
        "\n",
        "1.   -> start : [optional] start of interval range. By default start = 0\n",
        "2.   -> stop : end of interval range\n",
        "3.   -> restep : If True, return (samples, step). By default restep = False\n",
        "4. -> num : [int, optional] No. of samples to generate  \n",
        "5.  -> dtype : type of output array\n",
        "\n",
        "\n",
        "\n",
        "\n",
        "\n",
        "\n"
      ],
      "metadata": {
        "id": "WR55WpiwVXj7"
      }
    },
    {
      "cell_type": "code",
      "source": [
        "np.linspace(1,10,5)"
      ],
      "metadata": {
        "colab": {
          "base_uri": "https://localhost:8080/"
        },
        "id": "wByHwhrcVa_W",
        "outputId": "15ec8398-9bb9-4835-deed-844692b36fee"
      },
      "execution_count": null,
      "outputs": [
        {
          "output_type": "execute_result",
          "data": {
            "text/plain": [
              "array([ 1.  ,  3.25,  5.5 ,  7.75, 10.  ])"
            ]
          },
          "metadata": {},
          "execution_count": 74
        }
      ]
    },
    {
      "cell_type": "markdown",
      "source": [
        "14. Flatten  Function:\n",
        "ndarray.flatten() function return a copy of the array collapsed into one dimension."
      ],
      "metadata": {
        "id": "tCAVvdBgX56j"
      }
    },
    {
      "cell_type": "code",
      "source": [
        "arr=np.random.randint(1,15,(3,4))\n",
        "print(arr.shape)\n",
        "print(arr)\n",
        "print('-'*20)\n",
        "arr=arr.flatten()\n",
        "print(arr.shape)\n",
        "print(arr)"
      ],
      "metadata": {
        "colab": {
          "base_uri": "https://localhost:8080/"
        },
        "id": "SiHK8g59X8He",
        "outputId": "5145ddf2-43a6-4a33-9101-fbb318969ea7"
      },
      "execution_count": null,
      "outputs": [
        {
          "output_type": "stream",
          "name": "stdout",
          "text": [
            "(3, 4)\n",
            "[[ 3  5  3  4]\n",
            " [ 6 12 13 11]\n",
            " [ 3  4 11  1]]\n",
            "--------------------\n",
            "(12,)\n",
            "[ 3  5  3  4  6 12 13 11  3  4 11  1]\n"
          ]
        }
      ]
    },
    {
      "cell_type": "markdown",
      "source": [
        "15. Logspace  Function\n",
        "The numpy.logspace() function returns number spaces evenly w.r.t interval on a log scale.\n",
        "\n",
        "Parameters :\n",
        "\n",
        "\n",
        "\n",
        "1.   -> start : [float] start(base ** start) of interval range.\n",
        "2.  -> stop : [float] end(base ** stop) of interval range\n",
        "3. -> endpoint : [boolean, optional]If True, stop is the last sample. By default, True\n",
        "4. -> num : [int, optional] No. of samples to generate\n",
        "5. -> base : [float, optional] Base of log scale. By default, equals 10.0\n",
        "6. -> dtype : type of output array\n",
        "\n",
        "\n",
        "\n",
        "\n"
      ],
      "metadata": {
        "id": "WlEnoGhtZkhs"
      }
    },
    {
      "cell_type": "code",
      "source": [
        "print(np.logspace(2,4,10))\n",
        "print('-'*20)\n",
        "print(np.logspace(2,4,10,base =2 ))\n",
        "\n"
      ],
      "metadata": {
        "colab": {
          "base_uri": "https://localhost:8080/"
        },
        "id": "t8w4UuM_akub",
        "outputId": "ca0d35db-e75f-4c9a-b3dc-87ed88b36194"
      },
      "execution_count": null,
      "outputs": [
        {
          "output_type": "stream",
          "name": "stdout",
          "text": [
            "[  100.           166.81005372   278.25594022   464.15888336\n",
            "   774.26368268  1291.54966501  2154.43469003  3593.8136638\n",
            "  5994.84250319 10000.        ]\n",
            "--------------------\n",
            "[ 4.          4.66611616  5.44316     6.34960421  7.4069977   8.64047791\n",
            " 10.0793684  11.75787594 13.71590373 16.        ]\n"
          ]
        }
      ]
    },
    {
      "cell_type": "markdown",
      "source": [
        "16. Copy function:\n",
        "If we normally use the equals sign then the **id** of both the numpy array will be same, so we need to use to copy function"
      ],
      "metadata": {
        "id": "Ot6pDQAda5nx"
      }
    },
    {
      "cell_type": "code",
      "source": [
        " arr1 = np.random.randint(1,15,10)\n",
        " arr2 = arr1\n",
        " print(arr1,id(arr1))\n",
        " print(arr2,id(arr2))\n",
        " print(\"--\"*25)\n",
        " arr1 = np.random.randint(1,15,10)\n",
        " arr2=arr1.copy()\n",
        " print(arr1,id(arr1))\n",
        " print(arr2,id(arr2))"
      ],
      "metadata": {
        "colab": {
          "base_uri": "https://localhost:8080/"
        },
        "id": "VQd8RTgba50V",
        "outputId": "de68d0d9-f39c-42f9-acb0-76719f2748c5"
      },
      "execution_count": null,
      "outputs": [
        {
          "output_type": "stream",
          "name": "stdout",
          "text": [
            "[ 4  3 10  3  8  6  3 13  3 13] 132855187600560\n",
            "[ 4  3 10  3  8  6  3 13  3 13] 132855187600560\n",
            "--------------------------------------------------\n",
            "[ 2  6  5 12 10  9  1  7  4 14] 132855187145808\n",
            "[ 2  6  5 12 10  9  1  7  4 14] 132855187597968\n"
          ]
        }
      ]
    },
    {
      "cell_type": "markdown",
      "source": [
        "17 arr.max() ,  arr.min() ,     arr.sum() functions:\n",
        "\n",
        "1.  arr.max() will give us the maximum element\n",
        "present in the array\n",
        "2.   arr.min() will give us the minimun element present in the array\n",
        "3.\n",
        "arr.sum() will give us the sum of all the elements present in the array\n",
        "\n",
        "\n",
        "\n"
      ],
      "metadata": {
        "id": "AORs4xRUcOb-"
      }
    },
    {
      "cell_type": "code",
      "source": [
        "arr=np.random.randint(1,15,(3,5))\n",
        "print(arr)\n",
        "print(\"MAX:\",arr.max())\n",
        "print(\"MIN:\",arr.min())\n",
        "print(\"SUM:\",arr.sum())\n"
      ],
      "metadata": {
        "colab": {
          "base_uri": "https://localhost:8080/"
        },
        "id": "F56raslrbcFi",
        "outputId": "e0b71ba7-9326-44f6-e8df-1bb063815eb5"
      },
      "execution_count": null,
      "outputs": [
        {
          "output_type": "stream",
          "name": "stdout",
          "text": [
            "[[ 7  5  3  5 13]\n",
            " [ 4 13  1  5  3]\n",
            " [ 6 13 10  2 10]]\n",
            "MAX: 13\n",
            "MIN: 1\n",
            "SUM: 100\n"
          ]
        }
      ]
    },
    {
      "cell_type": "markdown",
      "source": [
        "We can use the axis parameter to get the max, min and sum of a particular column or row\n",
        "\n",
        "\n",
        "\n",
        "1.   axis=0 is for the column\n",
        "2.   axis=1 is for the row\n",
        "\n",
        "\n"
      ],
      "metadata": {
        "id": "ztbPR7Esi7Dc"
      }
    },
    {
      "cell_type": "code",
      "source": [
        "arr = np.random.randint(1,30,(3,5))\n",
        "\n",
        "print('-'*20)\n",
        "print(arr)\n",
        "print('-'*20)"
      ],
      "metadata": {
        "colab": {
          "base_uri": "https://localhost:8080/"
        },
        "id": "1IftPFFNi_c_",
        "outputId": "7566dfe2-3ed1-4553-d598-9754a81c6a4b"
      },
      "execution_count": null,
      "outputs": [
        {
          "output_type": "stream",
          "name": "stdout",
          "text": [
            "--------------------\n",
            "[[ 2 11 13  6 21]\n",
            " [15 27  4 16 20]\n",
            " [ 4 11 20 20  5]]\n",
            "--------------------\n"
          ]
        }
      ]
    },
    {
      "cell_type": "markdown",
      "source": [
        "**For Columns**"
      ],
      "metadata": {
        "id": "Q6-s9pPajdF0"
      }
    },
    {
      "cell_type": "code",
      "source": [
        "print(\"MAX:\",arr.max(axis=0))\n",
        "print(\"MIN:\",arr.min(axis=0))\n",
        "print(\"SUM:\",arr.sum(axis=0))"
      ],
      "metadata": {
        "colab": {
          "base_uri": "https://localhost:8080/"
        },
        "id": "1VMdkz8jjlyA",
        "outputId": "829436af-73a5-4bbd-86c6-dcda1d2dc490"
      },
      "execution_count": null,
      "outputs": [
        {
          "output_type": "stream",
          "name": "stdout",
          "text": [
            "MAX: [15 27 20 20 21]\n",
            "MIN: [ 2 11  4  6  5]\n",
            "SUM: [21 49 37 42 46]\n"
          ]
        }
      ]
    },
    {
      "cell_type": "markdown",
      "source": [
        "**For Rows**"
      ],
      "metadata": {
        "id": "jrQ6qO4GjiI3"
      }
    },
    {
      "cell_type": "code",
      "source": [
        "print(\"MAX:\",arr.max(axis=1))\n",
        "print(\"MIN:\",arr.min(axis=1))\n",
        "print(\"SUM:\",arr.sum(axis=1))"
      ],
      "metadata": {
        "colab": {
          "base_uri": "https://localhost:8080/"
        },
        "id": "0fGtcmu1j04U",
        "outputId": "6498b280-2432-4f60-9560-5169558e299f"
      },
      "execution_count": null,
      "outputs": [
        {
          "output_type": "stream",
          "name": "stdout",
          "text": [
            "MAX: [21 27 20]\n",
            "MIN: [2 4 4]\n",
            "SUM: [53 82 60]\n"
          ]
        }
      ]
    },
    {
      "cell_type": "markdown",
      "source": [
        "18. Seed Function\n",
        "random() function is used to generate random numbers in Python. Not actually random, rather this is used to generate pseudo-random numbers. That implies that these randomly generated numbers can be determined. random() function generates numbers for some values. This value is also called seed value.\n",
        "\n",
        "Syntax : random.seed( l, version )<br>\n",
        "\n",
        "Parameter :\n",
        "\n",
        "1. l: Any seed value used to produce a random number.\n",
        "2. version : A integer used to specify how to convert l in a integer."
      ],
      "metadata": {
        "id": "LL8Z8MBHkMK3"
      }
    },
    {
      "cell_type": "code",
      "source": [
        "np.random.seed(3)\n",
        "\n",
        "arr = np.random.randint(1,10,(3,5))\n",
        "\n",
        "arr"
      ],
      "metadata": {
        "colab": {
          "base_uri": "https://localhost:8080/"
        },
        "id": "1VOXaq46kL5F",
        "outputId": "52d99600-c3c1-4f71-9f5c-e05f8ebe9be1"
      },
      "execution_count": null,
      "outputs": [
        {
          "output_type": "execute_result",
          "data": {
            "text/plain": [
              "array([[9, 4, 9, 9, 1],\n",
              "       [6, 4, 6, 8, 7],\n",
              "       [1, 5, 8, 9, 2]])"
            ]
          },
          "metadata": {},
          "execution_count": 109
        }
      ]
    },
    {
      "cell_type": "markdown",
      "source": [
        "19. Sorting Function\n",
        "numpy.sort() : This function returns a sorted copy of an array.\n",
        "\n",
        "Parameters :\n",
        "\n",
        "1. arr : Array to be sorted.\n",
        "2.axis : Axis along which we need array to be started.\n",
        "3.order : This argument specifies which fields to compare first.\n",
        "4.kind : [‘quicksort’{default}, ‘mergesort’, ‘heapsort’]Sorting algorithm."
      ],
      "metadata": {
        "id": "mKZ1hpYOlQV7"
      }
    },
    {
      "cell_type": "code",
      "source": [
        "np.random.seed(3)\n",
        "arr = np.random.randint(1,10,(3,5))\n",
        "\n",
        "\n",
        "print('-'*15)\n",
        "print(arr)\n",
        "print('-'*15)\n",
        "print(np.sort(arr, axis = 1))\n",
        "print('-'*15)\n",
        "print(np.sort(arr, axis = 0))\n",
        "print('-'*15)\n",
        "\n",
        "arr = np.reshape(np.sort(arr.flatten()), arr.shape)\n",
        "print(arr)\n",
        "print('-'*15)\n"
      ],
      "metadata": {
        "colab": {
          "base_uri": "https://localhost:8080/"
        },
        "id": "AMkxmFKglWQd",
        "outputId": "95ddc19d-7657-45b5-c130-5f11572588d1"
      },
      "execution_count": null,
      "outputs": [
        {
          "output_type": "stream",
          "name": "stdout",
          "text": [
            "---------------\n",
            "[[9 4 9 9 1]\n",
            " [6 4 6 8 7]\n",
            " [1 5 8 9 2]]\n",
            "---------------\n",
            "[[1 4 9 9 9]\n",
            " [4 6 6 7 8]\n",
            " [1 2 5 8 9]]\n",
            "---------------\n",
            "[[1 4 6 8 1]\n",
            " [6 4 8 9 2]\n",
            " [9 5 9 9 7]]\n",
            "---------------\n",
            "[[1 1 2 4 4]\n",
            " [5 6 6 7 8]\n",
            " [8 9 9 9 9]]\n",
            "---------------\n"
          ]
        }
      ]
    },
    {
      "cell_type": "code",
      "source": [
        "print(np.sort(arr,axis=0,kind=\"mergesort\"))"
      ],
      "metadata": {
        "colab": {
          "base_uri": "https://localhost:8080/"
        },
        "id": "zUazDQFtpdOa",
        "outputId": "38c3e2d3-9770-49b1-ca0d-17f78dc8acfb"
      },
      "execution_count": null,
      "outputs": [
        {
          "output_type": "stream",
          "name": "stdout",
          "text": [
            "[[1 1 2 4 4]\n",
            " [5 6 6 7 8]\n",
            " [8 9 9 9 9]]\n"
          ]
        }
      ]
    },
    {
      "cell_type": "markdown",
      "source": [
        "20. Mathematical Operations"
      ],
      "metadata": {
        "id": "QSyW56bZprMY"
      }
    },
    {
      "cell_type": "markdown",
      "source": [
        "a) Addition"
      ],
      "metadata": {
        "id": "3E3UXTjlpu84"
      }
    },
    {
      "cell_type": "code",
      "source": [
        "np.random.seed(3)\n",
        "arr=np.random.randint(1,10,(3,5))\n",
        "\n",
        "print('-'*15)\n",
        "print(arr)\n",
        "print('-'*15)\n",
        "print(arr+2)\n",
        "print('-'*15)\n",
        "\n"
      ],
      "metadata": {
        "colab": {
          "base_uri": "https://localhost:8080/"
        },
        "id": "g43Qkj0rpuqf",
        "outputId": "6b499cd4-1d12-472a-e97b-f16400460b5a"
      },
      "execution_count": null,
      "outputs": [
        {
          "output_type": "stream",
          "name": "stdout",
          "text": [
            "---------------\n",
            "[[9 4 9 9 1]\n",
            " [6 4 6 8 7]\n",
            " [1 5 8 9 2]]\n",
            "---------------\n",
            "[[11  6 11 11  3]\n",
            " [ 8  6  8 10  9]\n",
            " [ 3  7 10 11  4]]\n",
            "---------------\n"
          ]
        }
      ]
    },
    {
      "cell_type": "markdown",
      "source": [
        "b) Subsrtration"
      ],
      "metadata": {
        "id": "WCik0XcBqI-j"
      }
    },
    {
      "cell_type": "code",
      "source": [
        "np.random.seed(3)\n",
        "arr=np.random.randint(1,10,(3,5))\n",
        "\n",
        "print('-'*15)\n",
        "print(arr)\n",
        "print('-'*15)\n",
        "print(arr-2)\n",
        "print('-'*15)\n",
        "\n"
      ],
      "metadata": {
        "colab": {
          "base_uri": "https://localhost:8080/"
        },
        "id": "zW6ISIJeqNAb",
        "outputId": "45fcd274-a209-4582-bb02-94c770739a86"
      },
      "execution_count": null,
      "outputs": [
        {
          "output_type": "stream",
          "name": "stdout",
          "text": [
            "---------------\n",
            "[[9 4 9 9 1]\n",
            " [6 4 6 8 7]\n",
            " [1 5 8 9 2]]\n",
            "---------------\n",
            "[[ 7  2  7  7 -1]\n",
            " [ 4  2  4  6  5]\n",
            " [-1  3  6  7  0]]\n",
            "---------------\n"
          ]
        }
      ]
    },
    {
      "cell_type": "markdown",
      "source": [
        "c) Multiplication"
      ],
      "metadata": {
        "id": "g_G4VqmpqSP4"
      }
    },
    {
      "cell_type": "code",
      "source": [
        "np.random.seed(3)\n",
        "arr=np.random.randint(1,10,(3,5))\n",
        "\n",
        "print('-'*15)\n",
        "print(arr)\n",
        "print('-'*15)\n",
        "print(arr*2)\n",
        "print('-'*15)\n",
        "\n"
      ],
      "metadata": {
        "colab": {
          "base_uri": "https://localhost:8080/"
        },
        "id": "UjoYT0_IqWE6",
        "outputId": "b29367b0-f4fd-4721-8aff-50a7ade62147"
      },
      "execution_count": null,
      "outputs": [
        {
          "output_type": "stream",
          "name": "stdout",
          "text": [
            "---------------\n",
            "[[9 4 9 9 1]\n",
            " [6 4 6 8 7]\n",
            " [1 5 8 9 2]]\n",
            "---------------\n",
            "[[18  8 18 18  2]\n",
            " [12  8 12 16 14]\n",
            " [ 2 10 16 18  4]]\n",
            "---------------\n"
          ]
        }
      ]
    },
    {
      "cell_type": "markdown",
      "source": [
        "d) Division"
      ],
      "metadata": {
        "id": "olugclgcqaJA"
      }
    },
    {
      "cell_type": "code",
      "source": [
        "np.random.seed(3)\n",
        "arr=np.random.randint(1,10,(3,5))\n",
        "print('-'*15)\n",
        "print(arr)\n",
        "print('-'*15)\n",
        "print(arr/2)\n",
        "print('-'*15)\n"
      ],
      "metadata": {
        "colab": {
          "base_uri": "https://localhost:8080/"
        },
        "id": "DykHn0GmqZ08",
        "outputId": "c601071e-7571-46cf-cbcb-2bd50b4d24b3"
      },
      "execution_count": null,
      "outputs": [
        {
          "output_type": "stream",
          "name": "stdout",
          "text": [
            "---------------\n",
            "[[9 4 9 9 1]\n",
            " [6 4 6 8 7]\n",
            " [1 5 8 9 2]]\n",
            "---------------\n",
            "[[4.5 2.  4.5 4.5 0.5]\n",
            " [3.  2.  3.  4.  3.5]\n",
            " [0.5 2.5 4.  4.5 1. ]]\n",
            "---------------\n"
          ]
        }
      ]
    },
    {
      "cell_type": "markdown",
      "source": [
        "e) Matrix Multiplication\n",
        "For Matrix Multiplication we either use the\n",
        "\n",
        "\n",
        "\n",
        "1.  dot function or\n",
        "2.  the @ symbol\n",
        "\n",
        "\n"
      ],
      "metadata": {
        "id": "Wbhbpkqtq3zu"
      }
    },
    {
      "cell_type": "code",
      "source": [
        "np.random.seed(3)\n",
        "\n",
        "arr1 = np.random.randint(1,10,(2,2))\n",
        "arr2 = np.random.randint(1,10,(2,2))\n",
        "\n",
        "print(arr1.dot(arr2))\n",
        "print('-'*12)\n",
        "print(arr1@arr2)"
      ],
      "metadata": {
        "colab": {
          "base_uri": "https://localhost:8080/"
        },
        "id": "e00Y74qsq-kA",
        "outputId": "66a8598f-f885-4468-ad41-620d96878c44"
      },
      "execution_count": null,
      "outputs": [
        {
          "output_type": "stream",
          "name": "stdout",
          "text": [
            "[[ 25  78]\n",
            " [ 45 108]]\n",
            "------------\n",
            "[[ 25  78]\n",
            " [ 45 108]]\n"
          ]
        }
      ]
    },
    {
      "cell_type": "markdown",
      "source": [
        "f)Power"
      ],
      "metadata": {
        "id": "gKvo5cjEspVI"
      }
    },
    {
      "cell_type": "code",
      "source": [
        "print(arr)\n",
        "print(\"-\"*20)\n",
        "print(arr**2)"
      ],
      "metadata": {
        "colab": {
          "base_uri": "https://localhost:8080/"
        },
        "id": "Vrr22fgYsrgP",
        "outputId": "b5f6a2b6-7642-4480-b714-76f717e84bad"
      },
      "execution_count": null,
      "outputs": [
        {
          "output_type": "stream",
          "name": "stdout",
          "text": [
            "[[9 4 9 9 1]\n",
            " [6 4 6 8 7]\n",
            " [1 5 8 9 2]]\n",
            "--------------------\n",
            "[[81 16 81 81  1]\n",
            " [36 16 36 64 49]\n",
            " [ 1 25 64 81  4]]\n"
          ]
        }
      ]
    },
    {
      "cell_type": "markdown",
      "source": [
        "21. Percentile Function:  \n",
        "numpy.percentile()function used to compute the nth percentile of the given data (array elements) along the specified axis."
      ],
      "metadata": {
        "id": "Vg7P9hRms2RM"
      }
    },
    {
      "cell_type": "code",
      "source": [
        "np.random.seed(3)\n",
        "\n",
        "arr = np.random.randint(1,10,10)\n",
        "print(arr)\n",
        "\n",
        "arr = np.sort(arr)\n",
        "print(arr)\n",
        "\n",
        "print(np.percentile(arr, 50))"
      ],
      "metadata": {
        "colab": {
          "base_uri": "https://localhost:8080/"
        },
        "id": "lDHijihJs5ZY",
        "outputId": "974197cf-1781-435d-fa97-9a9becc2104d"
      },
      "execution_count": null,
      "outputs": [
        {
          "output_type": "stream",
          "name": "stdout",
          "text": [
            "[9 4 9 9 1 6 4 6 8 7]\n",
            "[1 4 4 6 6 7 8 9 9 9]\n",
            "6.5\n"
          ]
        }
      ]
    },
    {
      "cell_type": "markdown",
      "source": [
        "22. Mean, Variance and Standard deviation:\n",
        "\n",
        "\n",
        "In NumPy, we can compute the mean, standard deviation, and variance of a given array along the second axis by two approaches first is by using inbuilt functions and second is by the formulas of the mean, standard deviation, and variance.\n",
        "\n",
        "Using numpy.mean(), numpy.std(), numpy.var()"
      ],
      "metadata": {
        "id": "U2mcFcahtkvN"
      }
    },
    {
      "cell_type": "code",
      "source": [
        "arr=np.random.randint(1,10,10)\n",
        "print(arr)\n",
        "print(arr.mean())\n",
        "print(arr.var())\n",
        "print(arr.std())"
      ],
      "metadata": {
        "colab": {
          "base_uri": "https://localhost:8080/"
        },
        "id": "lrDVaws1toD8",
        "outputId": "91f0cfa5-af85-4809-fc0e-346a1f2282dc"
      },
      "execution_count": null,
      "outputs": [
        {
          "output_type": "stream",
          "name": "stdout",
          "text": [
            "[9 9 8 6 2 2 2 6 6 8]\n",
            "5.8\n",
            "7.360000000000001\n",
            "2.7129319932501077\n"
          ]
        }
      ]
    },
    {
      "cell_type": "markdown",
      "source": [
        "23. Filtering an numpy array"
      ],
      "metadata": {
        "id": "mvB54muvt3Cm"
      }
    },
    {
      "cell_type": "code",
      "source": [
        "arr=np.arange(1,15)\n",
        "\n",
        "print(arr)\n",
        "print(arr<10)\n",
        "print(arr[arr<=5])"
      ],
      "metadata": {
        "id": "cKtGREjRt32q",
        "colab": {
          "base_uri": "https://localhost:8080/"
        },
        "outputId": "7c7459a7-9fc1-455d-ac27-5e8f7242d07b"
      },
      "execution_count": 6,
      "outputs": [
        {
          "output_type": "stream",
          "name": "stdout",
          "text": [
            "[ 1  2  3  4  5  6  7  8  9 10 11 12 13 14]\n",
            "[ True  True  True  True  True  True  True  True  True False False False\n",
            " False False]\n",
            "[1 2 3 4 5]\n"
          ]
        }
      ]
    },
    {
      "cell_type": "code",
      "source": [
        "arr[arr>5]=10\n",
        "arr"
      ],
      "metadata": {
        "colab": {
          "base_uri": "https://localhost:8080/"
        },
        "id": "DEpOgD6jgxE_",
        "outputId": "54996694-03e3-4ca2-a247-8dc9e42e555d"
      },
      "execution_count": 7,
      "outputs": [
        {
          "output_type": "execute_result",
          "data": {
            "text/plain": [
              "array([ 1,  2,  3,  4,  5, 10, 10, 10, 10, 10, 10, 10, 10, 10])"
            ]
          },
          "metadata": {},
          "execution_count": 7
        }
      ]
    },
    {
      "cell_type": "markdown",
      "source": [
        "24 Transposing an array:\n",
        "\n",
        "With the help of Numpy ndarray.T object, we can make a Transpose of an array having dimension greater than or equal to 2."
      ],
      "metadata": {
        "id": "1x-JU2Xug9ds"
      }
    },
    {
      "cell_type": "code",
      "source": [
        "arr=np.random.randint(1,20,(3,5))\n",
        "print(arr)\n",
        "print(\"-\"*20)\n",
        "print(arr.T)"
      ],
      "metadata": {
        "colab": {
          "base_uri": "https://localhost:8080/"
        },
        "id": "Y9Saoc2yg_8J",
        "outputId": "3459be09-8f3e-4087-bf7a-a97aa837553e"
      },
      "execution_count": 8,
      "outputs": [
        {
          "output_type": "stream",
          "name": "stdout",
          "text": [
            "[[14  8  8  9 14]\n",
            " [ 4  5 16 15 16]\n",
            " [ 1  1 14  8 13]]\n",
            "--------------------\n",
            "[[14  4  1]\n",
            " [ 8  5  1]\n",
            " [ 8 16 14]\n",
            " [ 9 15  8]\n",
            " [14 16 13]]\n"
          ]
        }
      ]
    },
    {
      "cell_type": "markdown",
      "source": [
        "25. Where function :\n",
        "\n",
        "The numpy.where() function returns the indices of elements in an input array where the given condition is satisfied.\n",
        "\n",
        "Syntax :numpy.where(condition[, x, y]) Parameters: condition : When True, yield x, otherwise yield y. x, y : Values from which to choose. x, y and condition need to be broadcastable to some shape.\n",
        "\n",
        "Returns: out : [ndarray or tuple of ndarrays] If both x and y are specified, the output array contains elements of x where condition is True, and elements from y elsewhere.\n",
        "\n",
        "If only condition is given, return the tuple condition.nonzero(), the indices where condition is True."
      ],
      "metadata": {
        "id": "3jRNB7FghSht"
      }
    },
    {
      "cell_type": "code",
      "source": [
        "arr=np.random.randint(1,20,10)\n",
        "arr"
      ],
      "metadata": {
        "colab": {
          "base_uri": "https://localhost:8080/"
        },
        "id": "bJMksoHehWqv",
        "outputId": "46e90064-7db4-4164-b743-1d29c68dc69c"
      },
      "execution_count": 13,
      "outputs": [
        {
          "output_type": "execute_result",
          "data": {
            "text/plain": [
              "array([14, 13, 15, 10, 10,  1,  4, 12,  2,  3])"
            ]
          },
          "metadata": {},
          "execution_count": 13
        }
      ]
    },
    {
      "cell_type": "markdown",
      "source": [
        "So now if we are having an even number let's convert it into 100 and the ones which are odd we leave it to the way it is"
      ],
      "metadata": {
        "id": "MqFULa0dhnts"
      }
    },
    {
      "cell_type": "code",
      "source": [
        "print(arr)\n",
        "\n",
        "print(np.where(arr%2==0, 'even',arr))\n",
        "print(np.where(arr%2!=0, 'odd',arr))\n",
        "\n",
        "arr1 = np.where(arr%2==0, 'even',arr)\n",
        "arr1 = np.where(arr%2!=0, 'odd',arr1)\n",
        "\n",
        "print(arr1)"
      ],
      "metadata": {
        "colab": {
          "base_uri": "https://localhost:8080/"
        },
        "id": "uzTKbzBLho5k",
        "outputId": "aeed709a-c97a-49bc-e449-1a9ecaf353ad"
      },
      "execution_count": 14,
      "outputs": [
        {
          "output_type": "stream",
          "name": "stdout",
          "text": [
            "[14 13 15 10 10  1  4 12  2  3]\n",
            "['even' '13' '15' 'even' 'even' '1' 'even' 'even' 'even' '3']\n",
            "['14' 'odd' 'odd' '10' '10' 'odd' '4' '12' '2' 'odd']\n",
            "['even' 'odd' 'odd' 'even' 'even' 'odd' 'even' 'even' 'even' 'odd']\n"
          ]
        }
      ]
    },
    {
      "cell_type": "markdown",
      "source": [
        "26. Merging Arrays:\n",
        "\n",
        "**a)** **Concatenate**\n",
        "We can perform the concatenation operation using the concatenate() function. With this function, arrays are concatenated either row-wise or column-wise, given that they have equal rows or columns respectively. Column-wise concatenation can be done by equating axis to 1 as an argument in the function."
      ],
      "metadata": {
        "id": "tb7ZxfjfiLuE"
      }
    },
    {
      "cell_type": "code",
      "source": [
        "arr1=np.random.randint(1,10,(2,4))\n",
        "arr2=np.random.randint(1,10,(2,4))\n",
        "\n",
        "print(arr1)\n",
        "print(arr2)\n",
        "\n",
        "np.concatenate((arr1,arr2),axis=0)"
      ],
      "metadata": {
        "colab": {
          "base_uri": "https://localhost:8080/"
        },
        "id": "Kf4oA8KdiLZi",
        "outputId": "fd619416-1736-4133-f62c-9bdb77590cae"
      },
      "execution_count": 17,
      "outputs": [
        {
          "output_type": "stream",
          "name": "stdout",
          "text": [
            "[[8 7 3 9]\n",
            " [1 4 5 1]]\n",
            "[[3 5 6 1]\n",
            " [1 9 2 5]]\n"
          ]
        },
        {
          "output_type": "execute_result",
          "data": {
            "text/plain": [
              "array([[8, 7, 3, 9],\n",
              "       [1, 4, 5, 1],\n",
              "       [3, 5, 6, 1],\n",
              "       [1, 9, 2, 5]])"
            ]
          },
          "metadata": {},
          "execution_count": 17
        }
      ]
    },
    {
      "cell_type": "markdown",
      "source": [
        "**b) Vstack and Hstack**:\n",
        "\n",
        "numpy.hstack() function is used to stack the sequence of input arrays horizontally (i.e. column wise) to make a single array."
      ],
      "metadata": {
        "id": "qqqhqcjMj2Sg"
      }
    },
    {
      "cell_type": "code",
      "source": [
        "arr1=np.random.randint(1,10,(2,4))\n",
        "arr2=np.random.randint(1,10,(2,4))\n",
        "print(arr1)\n",
        "print(\"-\"*20)\n",
        "print(arr2)\n",
        "print(\"-\"*20)\n",
        "np.hstack((arr1,arr2))"
      ],
      "metadata": {
        "colab": {
          "base_uri": "https://localhost:8080/"
        },
        "id": "OtHziuHIhrRO",
        "outputId": "e596ad95-d29f-41b3-a78e-6d59014cba28"
      },
      "execution_count": 19,
      "outputs": [
        {
          "output_type": "stream",
          "name": "stdout",
          "text": [
            "[[7 1 5 4]\n",
            " [3 6 9 4]]\n",
            "--------------------\n",
            "[[5 8 2 2]\n",
            " [3 2 7 4]]\n",
            "--------------------\n"
          ]
        },
        {
          "output_type": "execute_result",
          "data": {
            "text/plain": [
              "array([[7, 1, 5, 4, 5, 8, 2, 2],\n",
              "       [3, 6, 9, 4, 3, 2, 7, 4]])"
            ]
          },
          "metadata": {},
          "execution_count": 19
        }
      ]
    },
    {
      "cell_type": "code",
      "source": [
        "print(arr1)\n",
        "print('-'*15)\n",
        "print(arr2)\n",
        "print('-'*15)\n",
        "\n",
        "print(np.vstack((arr1,arr2)))"
      ],
      "metadata": {
        "colab": {
          "base_uri": "https://localhost:8080/"
        },
        "id": "0exhQoNrhrDp",
        "outputId": "0ac75021-5849-4ee9-a9b8-c0685e60b700"
      },
      "execution_count": 20,
      "outputs": [
        {
          "output_type": "stream",
          "name": "stdout",
          "text": [
            "[[7 1 5 4]\n",
            " [3 6 9 4]]\n",
            "---------------\n",
            "[[5 8 2 2]\n",
            " [3 2 7 4]]\n",
            "---------------\n",
            "[[7 1 5 4]\n",
            " [3 6 9 4]\n",
            " [5 8 2 2]\n",
            " [3 2 7 4]]\n"
          ]
        }
      ]
    },
    {
      "cell_type": "markdown",
      "source": [
        "\n",
        "27. Splitting Arrays"
      ],
      "metadata": {
        "id": "APLW-n7SkZoi"
      }
    },
    {
      "cell_type": "code",
      "source": [
        "arr = np.random.randint(1,10,(4,4))\n",
        "\n",
        "print(arr)"
      ],
      "metadata": {
        "colab": {
          "base_uri": "https://localhost:8080/"
        },
        "id": "P7XfFVqakajP",
        "outputId": "298c8e3a-fd5d-4422-9488-4d484c6d504a"
      },
      "execution_count": 21,
      "outputs": [
        {
          "output_type": "stream",
          "name": "stdout",
          "text": [
            "[[4 5 4 1]\n",
            " [6 4 6 2]\n",
            " [4 1 8 3]\n",
            " [8 8 7 1]]\n"
          ]
        }
      ]
    },
    {
      "cell_type": "markdown",
      "source": [
        "numpy.vsplit() function split an array into multiple sub-arrays vertically (row-wise). vsplit is equivalent to split with axis=0 (default), the array is always split along the first axis regardless of the array dimension.\n",
        "\n"
      ],
      "metadata": {
        "id": "EF94WkAtkmWi"
      }
    },
    {
      "cell_type": "code",
      "source": [
        "np.vsplit(arr,2)"
      ],
      "metadata": {
        "colab": {
          "base_uri": "https://localhost:8080/"
        },
        "id": "dmpeTCjJkrRi",
        "outputId": "8155c772-b4f3-4d7a-a3af-5a243ddc3956"
      },
      "execution_count": 22,
      "outputs": [
        {
          "output_type": "execute_result",
          "data": {
            "text/plain": [
              "[array([[4, 5, 4, 1],\n",
              "        [6, 4, 6, 2]]),\n",
              " array([[4, 1, 8, 3],\n",
              "        [8, 8, 7, 1]])]"
            ]
          },
          "metadata": {},
          "execution_count": 22
        }
      ]
    },
    {
      "cell_type": "markdown",
      "source": [
        "numpy.hsplit() function split an array into multiple sub-arrays horizontally (column-wise). hsplit is equivalent to split with axis=1, the array is always split along the second axis regardless of the array dimension.\n",
        "\n"
      ],
      "metadata": {
        "id": "nEEgAcSnljA2"
      }
    },
    {
      "cell_type": "code",
      "source": [
        "np.hsplit(arr,2)"
      ],
      "metadata": {
        "colab": {
          "base_uri": "https://localhost:8080/"
        },
        "id": "wE-Iul2kljYg",
        "outputId": "ea8935b8-426b-41fa-f824-aed88821e160"
      },
      "execution_count": 23,
      "outputs": [
        {
          "output_type": "execute_result",
          "data": {
            "text/plain": [
              "[array([[4, 5],\n",
              "        [6, 4],\n",
              "        [4, 1],\n",
              "        [8, 8]]),\n",
              " array([[4, 1],\n",
              "        [6, 2],\n",
              "        [8, 3],\n",
              "        [7, 1]])]"
            ]
          },
          "metadata": {},
          "execution_count": 23
        }
      ]
    },
    {
      "cell_type": "markdown",
      "source": [
        "28. Turning Pics into Numpy arrays\n"
      ],
      "metadata": {
        "id": "G1i04Lcgl8Ji"
      }
    },
    {
      "cell_type": "code",
      "source": [
        "from matplotlib.image import imread\n",
        "\n",
        "img = imread('/content/anubhav singh pathania photo.jpg')\n",
        "\n",
        "img.shape"
      ],
      "metadata": {
        "colab": {
          "base_uri": "https://localhost:8080/"
        },
        "id": "SGWjavu1lqKP",
        "outputId": "4934549d-d6d8-45f2-815b-645ecbf3b357"
      },
      "execution_count": 25,
      "outputs": [
        {
          "output_type": "execute_result",
          "data": {
            "text/plain": [
              "(507, 492, 3)"
            ]
          },
          "metadata": {},
          "execution_count": 25
        }
      ]
    },
    {
      "cell_type": "code",
      "source": [
        "img"
      ],
      "metadata": {
        "colab": {
          "base_uri": "https://localhost:8080/",
          "height": 546
        },
        "id": "hEBTvHZcl6iG",
        "outputId": "533d774b-31c5-4859-b296-05b2d1ab7faa"
      },
      "execution_count": 26,
      "outputs": [
        {
          "output_type": "execute_result",
          "data": {
            "text/plain": [
              "array([[[255, 255, 255],\n",
              "        [255, 255, 255],\n",
              "        [255, 255, 255],\n",
              "        ...,\n",
              "        [255, 255, 255],\n",
              "        [255, 255, 255],\n",
              "        [255, 255, 255]],\n",
              "\n",
              "       [[255, 255, 255],\n",
              "        [255, 255, 255],\n",
              "        [255, 255, 255],\n",
              "        ...,\n",
              "        [255, 255, 255],\n",
              "        [255, 255, 255],\n",
              "        [255, 255, 255]],\n",
              "\n",
              "       [[255, 255, 255],\n",
              "        [255, 255, 255],\n",
              "        [255, 255, 255],\n",
              "        ...,\n",
              "        [255, 255, 255],\n",
              "        [255, 255, 255],\n",
              "        [255, 255, 255]],\n",
              "\n",
              "       ...,\n",
              "\n",
              "       [[255, 255, 255],\n",
              "        [255, 255, 255],\n",
              "        [255, 255, 255],\n",
              "        ...,\n",
              "        [255, 255, 255],\n",
              "        [255, 255, 255],\n",
              "        [255, 255, 255]],\n",
              "\n",
              "       [[255, 255, 255],\n",
              "        [255, 255, 255],\n",
              "        [255, 255, 255],\n",
              "        ...,\n",
              "        [255, 255, 255],\n",
              "        [255, 255, 255],\n",
              "        [255, 255, 255]],\n",
              "\n",
              "       [[255, 255, 255],\n",
              "        [255, 255, 255],\n",
              "        [255, 255, 255],\n",
              "        ...,\n",
              "        [255, 255, 255],\n",
              "        [255, 255, 255],\n",
              "        [255, 255, 255]]], dtype=uint8)"
            ],
            "text/html": [
              "<style>\n",
              "      .ndarray_repr .ndarray_raw_data {\n",
              "        display: none;\n",
              "      }\n",
              "      .ndarray_repr.show_array .ndarray_raw_data {\n",
              "        display: block;\n",
              "      }\n",
              "      .ndarray_repr.show_array .ndarray_image_preview {\n",
              "        display: none;\n",
              "      }\n",
              "      </style>\n",
              "      <div id=\"id-b682705c-1400-4667-bbca-078222b439dd\" class=\"ndarray_repr\"><pre>ndarray (507, 492, 3) <button style=\"padding: 0 2px;\">show data</button></pre><img src=\"data:image/png;base64,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\" class=\"ndarray_image_preview\" /><pre class=\"ndarray_raw_data\">array([[[255, 255, 255],\n",
              "        [255, 255, 255],\n",
              "        [255, 255, 255],\n",
              "        ...,\n",
              "        [255, 255, 255],\n",
              "        [255, 255, 255],\n",
              "        [255, 255, 255]],\n",
              "\n",
              "       [[255, 255, 255],\n",
              "        [255, 255, 255],\n",
              "        [255, 255, 255],\n",
              "        ...,\n",
              "        [255, 255, 255],\n",
              "        [255, 255, 255],\n",
              "        [255, 255, 255]],\n",
              "\n",
              "       [[255, 255, 255],\n",
              "        [255, 255, 255],\n",
              "        [255, 255, 255],\n",
              "        ...,\n",
              "        [255, 255, 255],\n",
              "        [255, 255, 255],\n",
              "        [255, 255, 255]],\n",
              "\n",
              "       ...,\n",
              "\n",
              "       [[255, 255, 255],\n",
              "        [255, 255, 255],\n",
              "        [255, 255, 255],\n",
              "        ...,\n",
              "        [255, 255, 255],\n",
              "        [255, 255, 255],\n",
              "        [255, 255, 255]],\n",
              "\n",
              "       [[255, 255, 255],\n",
              "        [255, 255, 255],\n",
              "        [255, 255, 255],\n",
              "        ...,\n",
              "        [255, 255, 255],\n",
              "        [255, 255, 255],\n",
              "        [255, 255, 255]],\n",
              "\n",
              "       [[255, 255, 255],\n",
              "        [255, 255, 255],\n",
              "        [255, 255, 255],\n",
              "        ...,\n",
              "        [255, 255, 255],\n",
              "        [255, 255, 255],\n",
              "        [255, 255, 255]]], dtype=uint8)</pre></div><script>\n",
              "      (() => {\n",
              "      const titles = ['show data', 'hide data'];\n",
              "      let index = 0\n",
              "      document.querySelector('#id-b682705c-1400-4667-bbca-078222b439dd button').onclick = (e) => {\n",
              "        document.querySelector('#id-b682705c-1400-4667-bbca-078222b439dd').classList.toggle('show_array');\n",
              "        index = (++index) % 2;\n",
              "        document.querySelector('#id-b682705c-1400-4667-bbca-078222b439dd button').textContent = titles[index];\n",
              "        e.preventDefault();\n",
              "        e.stopPropagation();\n",
              "      }\n",
              "      })();\n",
              "    </script>"
            ]
          },
          "metadata": {},
          "execution_count": 26
        }
      ]
    },
    {
      "cell_type": "code",
      "source": [
        "np.max(img)"
      ],
      "metadata": {
        "colab": {
          "base_uri": "https://localhost:8080/"
        },
        "id": "_EnjCE75myXy",
        "outputId": "569ee0e5-6bcc-4497-d74d-b9501c48cc88"
      },
      "execution_count": 27,
      "outputs": [
        {
          "output_type": "execute_result",
          "data": {
            "text/plain": [
              "np.uint8(255)"
            ]
          },
          "metadata": {},
          "execution_count": 27
        }
      ]
    },
    {
      "cell_type": "code",
      "source": [
        "np.min(img)"
      ],
      "metadata": {
        "colab": {
          "base_uri": "https://localhost:8080/"
        },
        "id": "5VUipLhDm1Qv",
        "outputId": "a8c72046-82ac-4996-97f0-a7bd11eb364f"
      },
      "execution_count": 28,
      "outputs": [
        {
          "output_type": "execute_result",
          "data": {
            "text/plain": [
              "np.uint8(0)"
            ]
          },
          "metadata": {},
          "execution_count": 28
        }
      ]
    }
  ]
}