{
 "cells": [
  {
   "cell_type": "code",
   "execution_count": 1,
   "id": "eda6ce81-bfec-46c8-ad0c-0bcc6d2000af",
   "metadata": {},
   "outputs": [],
   "source": [
    "import pandas as pd\n",
    "import numpy as np\n"
   ]
  },
  {
   "cell_type": "code",
   "execution_count": 2,
   "id": "572b28a5-05cb-43d9-889c-b30d5abc2e0c",
   "metadata": {},
   "outputs": [],
   "source": [
    "df=pd.read_csv(\"AB_NYC_2019.csv\")"
   ]
  },
  {
   "cell_type": "code",
   "execution_count": 3,
   "id": "2e4d8a47-a223-44fd-84bb-514de3fe2aaa",
   "metadata": {},
   "outputs": [
    {
     "data": {
      "text/html": [
       "<div>\n",
       "<style scoped>\n",
       "    .dataframe tbody tr th:only-of-type {\n",
       "        vertical-align: middle;\n",
       "    }\n",
       "\n",
       "    .dataframe tbody tr th {\n",
       "        vertical-align: top;\n",
       "    }\n",
       "\n",
       "    .dataframe thead th {\n",
       "        text-align: right;\n",
       "    }\n",
       "</style>\n",
       "<table border=\"1\" class=\"dataframe\">\n",
       "  <thead>\n",
       "    <tr style=\"text-align: right;\">\n",
       "      <th></th>\n",
       "      <th>id</th>\n",
       "      <th>name</th>\n",
       "      <th>host_id</th>\n",
       "      <th>host_name</th>\n",
       "      <th>neighbourhood_group</th>\n",
       "      <th>neighbourhood</th>\n",
       "      <th>latitude</th>\n",
       "      <th>longitude</th>\n",
       "      <th>room_type</th>\n",
       "      <th>price</th>\n",
       "      <th>minimum_nights</th>\n",
       "      <th>number_of_reviews</th>\n",
       "      <th>last_review</th>\n",
       "      <th>reviews_per_month</th>\n",
       "      <th>calculated_host_listings_count</th>\n",
       "      <th>availability_365</th>\n",
       "    </tr>\n",
       "  </thead>\n",
       "  <tbody>\n",
       "    <tr>\n",
       "      <th>0</th>\n",
       "      <td>2539</td>\n",
       "      <td>Clean &amp; quiet apt home by the park</td>\n",
       "      <td>2787</td>\n",
       "      <td>John</td>\n",
       "      <td>Brooklyn</td>\n",
       "      <td>Kensington</td>\n",
       "      <td>40.64749</td>\n",
       "      <td>-73.97237</td>\n",
       "      <td>Private room</td>\n",
       "      <td>149</td>\n",
       "      <td>1</td>\n",
       "      <td>9</td>\n",
       "      <td>2018-10-19</td>\n",
       "      <td>0.21</td>\n",
       "      <td>6</td>\n",
       "      <td>365</td>\n",
       "    </tr>\n",
       "    <tr>\n",
       "      <th>1</th>\n",
       "      <td>2595</td>\n",
       "      <td>Skylit Midtown Castle</td>\n",
       "      <td>2845</td>\n",
       "      <td>Jennifer</td>\n",
       "      <td>Manhattan</td>\n",
       "      <td>Midtown</td>\n",
       "      <td>40.75362</td>\n",
       "      <td>-73.98377</td>\n",
       "      <td>Entire home/apt</td>\n",
       "      <td>225</td>\n",
       "      <td>1</td>\n",
       "      <td>45</td>\n",
       "      <td>2019-05-21</td>\n",
       "      <td>0.38</td>\n",
       "      <td>2</td>\n",
       "      <td>355</td>\n",
       "    </tr>\n",
       "    <tr>\n",
       "      <th>2</th>\n",
       "      <td>3647</td>\n",
       "      <td>THE VILLAGE OF HARLEM....NEW YORK !</td>\n",
       "      <td>4632</td>\n",
       "      <td>Elisabeth</td>\n",
       "      <td>Manhattan</td>\n",
       "      <td>Harlem</td>\n",
       "      <td>40.80902</td>\n",
       "      <td>-73.94190</td>\n",
       "      <td>Private room</td>\n",
       "      <td>150</td>\n",
       "      <td>3</td>\n",
       "      <td>0</td>\n",
       "      <td>NaN</td>\n",
       "      <td>NaN</td>\n",
       "      <td>1</td>\n",
       "      <td>365</td>\n",
       "    </tr>\n",
       "    <tr>\n",
       "      <th>3</th>\n",
       "      <td>3831</td>\n",
       "      <td>Cozy Entire Floor of Brownstone</td>\n",
       "      <td>4869</td>\n",
       "      <td>LisaRoxanne</td>\n",
       "      <td>Brooklyn</td>\n",
       "      <td>Clinton Hill</td>\n",
       "      <td>40.68514</td>\n",
       "      <td>-73.95976</td>\n",
       "      <td>Entire home/apt</td>\n",
       "      <td>89</td>\n",
       "      <td>1</td>\n",
       "      <td>270</td>\n",
       "      <td>2019-07-05</td>\n",
       "      <td>4.64</td>\n",
       "      <td>1</td>\n",
       "      <td>194</td>\n",
       "    </tr>\n",
       "    <tr>\n",
       "      <th>4</th>\n",
       "      <td>5022</td>\n",
       "      <td>Entire Apt: Spacious Studio/Loft by central park</td>\n",
       "      <td>7192</td>\n",
       "      <td>Laura</td>\n",
       "      <td>Manhattan</td>\n",
       "      <td>East Harlem</td>\n",
       "      <td>40.79851</td>\n",
       "      <td>-73.94399</td>\n",
       "      <td>Entire home/apt</td>\n",
       "      <td>80</td>\n",
       "      <td>10</td>\n",
       "      <td>9</td>\n",
       "      <td>2018-11-19</td>\n",
       "      <td>0.10</td>\n",
       "      <td>1</td>\n",
       "      <td>0</td>\n",
       "    </tr>\n",
       "  </tbody>\n",
       "</table>\n",
       "</div>"
      ],
      "text/plain": [
       "     id                                              name  host_id  \\\n",
       "0  2539                Clean & quiet apt home by the park     2787   \n",
       "1  2595                             Skylit Midtown Castle     2845   \n",
       "2  3647               THE VILLAGE OF HARLEM....NEW YORK !     4632   \n",
       "3  3831                   Cozy Entire Floor of Brownstone     4869   \n",
       "4  5022  Entire Apt: Spacious Studio/Loft by central park     7192   \n",
       "\n",
       "     host_name neighbourhood_group neighbourhood  latitude  longitude  \\\n",
       "0         John            Brooklyn    Kensington  40.64749  -73.97237   \n",
       "1     Jennifer           Manhattan       Midtown  40.75362  -73.98377   \n",
       "2    Elisabeth           Manhattan        Harlem  40.80902  -73.94190   \n",
       "3  LisaRoxanne            Brooklyn  Clinton Hill  40.68514  -73.95976   \n",
       "4        Laura           Manhattan   East Harlem  40.79851  -73.94399   \n",
       "\n",
       "         room_type  price  minimum_nights  number_of_reviews last_review  \\\n",
       "0     Private room    149               1                  9  2018-10-19   \n",
       "1  Entire home/apt    225               1                 45  2019-05-21   \n",
       "2     Private room    150               3                  0         NaN   \n",
       "3  Entire home/apt     89               1                270  2019-07-05   \n",
       "4  Entire home/apt     80              10                  9  2018-11-19   \n",
       "\n",
       "   reviews_per_month  calculated_host_listings_count  availability_365  \n",
       "0               0.21                               6               365  \n",
       "1               0.38                               2               355  \n",
       "2                NaN                               1               365  \n",
       "3               4.64                               1               194  \n",
       "4               0.10                               1                 0  "
      ]
     },
     "execution_count": 3,
     "metadata": {},
     "output_type": "execute_result"
    }
   ],
   "source": [
    "df.head()"
   ]
  },
  {
   "cell_type": "code",
   "execution_count": 5,
   "id": "8cd37c34-7dfc-40d1-bbf9-eaadd6d1b88a",
   "metadata": {},
   "outputs": [],
   "source": [
    "df.dropna(inplace= True)\n",
    "df.drop_duplicates(inplace =True)"
   ]
  },
  {
   "cell_type": "code",
   "execution_count": 6,
   "id": "0aefea45-9ac3-4a56-82dc-92810f4aff6b",
   "metadata": {},
   "outputs": [],
   "source": [
    "df[\"id\"]=df[\"id\"].astype(str)\n",
    "df[\"host_id\t\"]=df[\"host_id\"].astype(str)\n",
    "df[\"latitude\"]=df[\"latitude\"].astype(str)\n",
    "df[\"longitude\"]=df[\"longitude\"].astype(str)\n"
   ]
  },
  {
   "cell_type": "code",
   "execution_count": 7,
   "id": "adb129b3-8b11-4b34-b843-c5bda2fbc2c9",
   "metadata": {},
   "outputs": [
    {
     "data": {
      "text/html": [
       "<div>\n",
       "<style scoped>\n",
       "    .dataframe tbody tr th:only-of-type {\n",
       "        vertical-align: middle;\n",
       "    }\n",
       "\n",
       "    .dataframe tbody tr th {\n",
       "        vertical-align: top;\n",
       "    }\n",
       "\n",
       "    .dataframe thead th {\n",
       "        text-align: right;\n",
       "    }\n",
       "</style>\n",
       "<table border=\"1\" class=\"dataframe\">\n",
       "  <thead>\n",
       "    <tr style=\"text-align: right;\">\n",
       "      <th></th>\n",
       "      <th>host_id</th>\n",
       "      <th>price</th>\n",
       "      <th>minimum_nights</th>\n",
       "      <th>number_of_reviews</th>\n",
       "      <th>reviews_per_month</th>\n",
       "      <th>calculated_host_listings_count</th>\n",
       "      <th>availability_365</th>\n",
       "    </tr>\n",
       "  </thead>\n",
       "  <tbody>\n",
       "    <tr>\n",
       "      <th>count</th>\n",
       "      <td>3.882100e+04</td>\n",
       "      <td>38821.000000</td>\n",
       "      <td>38821.000000</td>\n",
       "      <td>38821.000000</td>\n",
       "      <td>38821.000000</td>\n",
       "      <td>38821.000000</td>\n",
       "      <td>38821.000000</td>\n",
       "    </tr>\n",
       "    <tr>\n",
       "      <th>mean</th>\n",
       "      <td>6.424582e+07</td>\n",
       "      <td>142.332526</td>\n",
       "      <td>5.869220</td>\n",
       "      <td>29.290255</td>\n",
       "      <td>1.373229</td>\n",
       "      <td>5.166611</td>\n",
       "      <td>114.886299</td>\n",
       "    </tr>\n",
       "    <tr>\n",
       "      <th>std</th>\n",
       "      <td>7.589752e+07</td>\n",
       "      <td>196.994756</td>\n",
       "      <td>17.389026</td>\n",
       "      <td>48.182900</td>\n",
       "      <td>1.680328</td>\n",
       "      <td>26.302954</td>\n",
       "      <td>129.529950</td>\n",
       "    </tr>\n",
       "    <tr>\n",
       "      <th>min</th>\n",
       "      <td>2.438000e+03</td>\n",
       "      <td>0.000000</td>\n",
       "      <td>1.000000</td>\n",
       "      <td>1.000000</td>\n",
       "      <td>0.010000</td>\n",
       "      <td>1.000000</td>\n",
       "      <td>0.000000</td>\n",
       "    </tr>\n",
       "    <tr>\n",
       "      <th>25%</th>\n",
       "      <td>7.029525e+06</td>\n",
       "      <td>69.000000</td>\n",
       "      <td>1.000000</td>\n",
       "      <td>3.000000</td>\n",
       "      <td>0.190000</td>\n",
       "      <td>1.000000</td>\n",
       "      <td>0.000000</td>\n",
       "    </tr>\n",
       "    <tr>\n",
       "      <th>50%</th>\n",
       "      <td>2.837092e+07</td>\n",
       "      <td>101.000000</td>\n",
       "      <td>2.000000</td>\n",
       "      <td>9.000000</td>\n",
       "      <td>0.720000</td>\n",
       "      <td>1.000000</td>\n",
       "      <td>55.000000</td>\n",
       "    </tr>\n",
       "    <tr>\n",
       "      <th>75%</th>\n",
       "      <td>1.018905e+08</td>\n",
       "      <td>170.000000</td>\n",
       "      <td>4.000000</td>\n",
       "      <td>33.000000</td>\n",
       "      <td>2.020000</td>\n",
       "      <td>2.000000</td>\n",
       "      <td>229.000000</td>\n",
       "    </tr>\n",
       "    <tr>\n",
       "      <th>max</th>\n",
       "      <td>2.738417e+08</td>\n",
       "      <td>10000.000000</td>\n",
       "      <td>1250.000000</td>\n",
       "      <td>629.000000</td>\n",
       "      <td>58.500000</td>\n",
       "      <td>327.000000</td>\n",
       "      <td>365.000000</td>\n",
       "    </tr>\n",
       "  </tbody>\n",
       "</table>\n",
       "</div>"
      ],
      "text/plain": [
       "            host_id         price  minimum_nights  number_of_reviews  \\\n",
       "count  3.882100e+04  38821.000000    38821.000000       38821.000000   \n",
       "mean   6.424582e+07    142.332526        5.869220          29.290255   \n",
       "std    7.589752e+07    196.994756       17.389026          48.182900   \n",
       "min    2.438000e+03      0.000000        1.000000           1.000000   \n",
       "25%    7.029525e+06     69.000000        1.000000           3.000000   \n",
       "50%    2.837092e+07    101.000000        2.000000           9.000000   \n",
       "75%    1.018905e+08    170.000000        4.000000          33.000000   \n",
       "max    2.738417e+08  10000.000000     1250.000000         629.000000   \n",
       "\n",
       "       reviews_per_month  calculated_host_listings_count  availability_365  \n",
       "count       38821.000000                    38821.000000      38821.000000  \n",
       "mean            1.373229                        5.166611        114.886299  \n",
       "std             1.680328                       26.302954        129.529950  \n",
       "min             0.010000                        1.000000          0.000000  \n",
       "25%             0.190000                        1.000000          0.000000  \n",
       "50%             0.720000                        1.000000         55.000000  \n",
       "75%             2.020000                        2.000000        229.000000  \n",
       "max            58.500000                      327.000000        365.000000  "
      ]
     },
     "execution_count": 7,
     "metadata": {},
     "output_type": "execute_result"
    }
   ],
   "source": [
    "df.describe()"
   ]
  },
  {
   "cell_type": "markdown",
   "id": "4dfafb65-92de-4751-a93b-257e90251403",
   "metadata": {},
   "source": [
    "range of minimum nights for listings is 1 and 1250"
   ]
  },
  {
   "cell_type": "markdown",
   "id": "cadc9be9-d79b-4738-af1a-146f4d4795b0",
   "metadata": {},
   "source": [
    "## **Categorical Data**"
   ]
  },
  {
   "cell_type": "code",
   "execution_count": 8,
   "id": "fa1cd4b6-6833-4224-b8c7-e5dc7c8129e1",
   "metadata": {},
   "outputs": [
    {
     "data": {
      "text/plain": [
       "id                                38821\n",
       "name                              38253\n",
       "host_id                           30232\n",
       "host_name                          9885\n",
       "neighbourhood_group                   5\n",
       "neighbourhood                       218\n",
       "latitude                          17436\n",
       "longitude                         13639\n",
       "room_type                             3\n",
       "price                               581\n",
       "minimum_nights                       89\n",
       "number_of_reviews                   393\n",
       "last_review                        1764\n",
       "reviews_per_month                   937\n",
       "calculated_host_listings_count       47\n",
       "availability_365                    366\n",
       "host_id\\t                         30232\n",
       "dtype: int64"
      ]
     },
     "execution_count": 8,
     "metadata": {},
     "output_type": "execute_result"
    }
   ],
   "source": [
    "df.nunique()"
   ]
  },
  {
   "cell_type": "code",
   "execution_count": 9,
   "id": "db702c58-a05c-4ace-81d9-283d83578d44",
   "metadata": {},
   "outputs": [
    {
     "data": {
      "text/plain": [
       "Index(['id', 'name', 'host_id', 'host_name', 'neighbourhood_group',\n",
       "       'neighbourhood', 'latitude', 'longitude', 'room_type', 'price',\n",
       "       'minimum_nights', 'number_of_reviews', 'last_review',\n",
       "       'reviews_per_month', 'calculated_host_listings_count',\n",
       "       'availability_365', 'host_id\\t'],\n",
       "      dtype='object')"
      ]
     },
     "execution_count": 9,
     "metadata": {},
     "output_type": "execute_result"
    }
   ],
   "source": [
    "df.columns"
   ]
  },
  {
   "cell_type": "code",
   "execution_count": 10,
   "id": "d0d5ce94-4f34-49fd-b40a-ae5c4a956073",
   "metadata": {},
   "outputs": [
    {
     "data": {
      "text/plain": [
       "room_type\n",
       "Entire home/apt    20321\n",
       "Private room       17654\n",
       "Shared room          846\n",
       "Name: count, dtype: int64"
      ]
     },
     "execution_count": 10,
     "metadata": {},
     "output_type": "execute_result"
    }
   ],
   "source": [
    "df[\"room_type\"].value_counts()"
   ]
  },
  {
   "cell_type": "code",
   "execution_count": 11,
   "id": "da1f6e17-3a89-4fb3-a228-6b313de608f2",
   "metadata": {},
   "outputs": [
    {
     "data": {
      "text/plain": [
       "room_type\n",
       "Entire home/apt    0.523454\n",
       "Private room       0.454754\n",
       "Shared room        0.021792\n",
       "Name: proportion, dtype: float64"
      ]
     },
     "execution_count": 11,
     "metadata": {},
     "output_type": "execute_result"
    }
   ],
   "source": [
    "df[\"room_type\"].value_counts(normalize = True)"
   ]
  },
  {
   "cell_type": "code",
   "execution_count": 12,
   "id": "933d0354-24e0-4761-88b5-6fa034624ff3",
   "metadata": {},
   "outputs": [
    {
     "data": {
      "text/plain": [
       "neighbourhood_group\n",
       "Manhattan        16621\n",
       "Brooklyn         16439\n",
       "Queens            4572\n",
       "Bronx              875\n",
       "Staten Island      314\n",
       "Name: count, dtype: int64"
      ]
     },
     "execution_count": 12,
     "metadata": {},
     "output_type": "execute_result"
    }
   ],
   "source": [
    "df[\"neighbourhood_group\"].value_counts()"
   ]
  },
  {
   "cell_type": "markdown",
   "id": "2266b838-027d-4269-8509-176d5699ca9f",
   "metadata": {},
   "source": [
    "## **Numerical Data**\n"
   ]
  },
  {
   "cell_type": "code",
   "execution_count": 13,
   "id": "15ef96e6-b100-41e6-b0ba-1874b8129cb3",
   "metadata": {},
   "outputs": [
    {
     "data": {
      "text/plain": [
       "(-10.001, 2000.0]    38786\n",
       "(2000.0, 4000.0]        20\n",
       "(4000.0, 6000.0]         8\n",
       "(8000.0, 10000.0]        5\n",
       "(6000.0, 8000.0]         2\n",
       "Name: count, dtype: int64"
      ]
     },
     "execution_count": 13,
     "metadata": {},
     "output_type": "execute_result"
    }
   ],
   "source": [
    "df[\"price\"].value_counts(bins = 5)"
   ]
  },
  {
   "cell_type": "code",
   "execution_count": 14,
   "id": "deacc3b5-fb4d-4aef-87e6-883c95fcb963",
   "metadata": {},
   "outputs": [
    {
     "data": {
      "text/plain": [
       "(50.0, 100.0]        14212\n",
       "(100.0, 200.0]       13544\n",
       "(200.0, 500.0]        5267\n",
       "(0.0, 50.0]           5166\n",
       "(500.0, 800.0]         404\n",
       "(800.0, 2000.0]        183\n",
       "(2000.0, 4000.0]        20\n",
       "(4000.0, 10000.0]       15\n",
       "(-10.001, 0.0]          10\n",
       "Name: count, dtype: int64"
      ]
     },
     "execution_count": 14,
     "metadata": {},
     "output_type": "execute_result"
    }
   ],
   "source": [
    "bins = [-10,0, 50,100, 200,500,800,2000,4000,10000]\n",
    "df[\"price\"].value_counts(bins = bins)"
   ]
  },
  {
   "cell_type": "markdown",
   "id": "5fd2650d-f2a2-4e93-b3d3-882e17b65f5f",
   "metadata": {},
   "source": [
    "It is mainly helpful in small datasets."
   ]
  },
  {
   "cell_type": "markdown",
   "id": "0cd164b3-b85e-4c0d-81ca-008a699bb988",
   "metadata": {},
   "source": [
    "## **Measures of central tendency**\n"
   ]
  },
  {
   "cell_type": "code",
   "execution_count": 15,
   "id": "e7fc7a3e-f191-4e6a-9f66-cb24bd1326d0",
   "metadata": {},
   "outputs": [
    {
     "data": {
      "text/plain": [
       "np.float64(142.33252621004095)"
      ]
     },
     "execution_count": 15,
     "metadata": {},
     "output_type": "execute_result"
    }
   ],
   "source": [
    "df[\"price\"].mean()"
   ]
  },
  {
   "cell_type": "code",
   "execution_count": 16,
   "id": "d5179bb3-0f26-4c5c-8760-e974172f013f",
   "metadata": {},
   "outputs": [
    {
     "data": {
      "text/plain": [
       "101.0"
      ]
     },
     "execution_count": 16,
     "metadata": {},
     "output_type": "execute_result"
    }
   ],
   "source": [
    "df[\"price\"].median()"
   ]
  },
  {
   "cell_type": "code",
   "execution_count": 17,
   "id": "4fe99c97-aa32-4c6b-b4f5-0624610a5155",
   "metadata": {},
   "outputs": [
    {
     "data": {
      "text/plain": [
       "196.99475591833985"
      ]
     },
     "execution_count": 17,
     "metadata": {},
     "output_type": "execute_result"
    }
   ],
   "source": [
    "df[\"price\"].std()"
   ]
  },
  {
   "cell_type": "code",
   "execution_count": 18,
   "id": "f4090661-2fc2-4dfc-8d5c-85e285ada245",
   "metadata": {},
   "outputs": [
    {
     "data": {
      "text/plain": [
       "np.float64(5.869220267381056)"
      ]
     },
     "execution_count": 18,
     "metadata": {},
     "output_type": "execute_result"
    }
   ],
   "source": [
    "df[\"minimum_nights\"].mean()"
   ]
  },
  {
   "cell_type": "code",
   "execution_count": 20,
   "id": "ba0d20fb-e6d2-4745-a044-d35e31dddb27",
   "metadata": {},
   "outputs": [
    {
     "data": {
      "text/plain": [
       "2.0"
      ]
     },
     "execution_count": 20,
     "metadata": {},
     "output_type": "execute_result"
    }
   ],
   "source": [
    "df[\"minimum_nights\"].median()"
   ]
  },
  {
   "cell_type": "markdown",
   "id": "4402822c-a83e-4c95-9f68-7bddc889e832",
   "metadata": {},
   "source": [
    "## **Measure of Spread**\n"
   ]
  },
  {
   "cell_type": "code",
   "execution_count": 21,
   "id": "63e2daa1-aa64-4ce2-aabb-5aa2aa619019",
   "metadata": {},
   "outputs": [
    {
     "data": {
      "text/plain": [
       "np.float64(23.673594295123014)"
      ]
     },
     "execution_count": 21,
     "metadata": {},
     "output_type": "execute_result"
    }
   ],
   "source": [
    "df[\"price\"].skew()"
   ]
  },
  {
   "cell_type": "code",
   "execution_count": 23,
   "id": "ac9dff46-4007-4654-8f6d-d7432c7f7e75",
   "metadata": {},
   "outputs": [
    {
     "data": {
      "text/plain": [
       "np.float64(953.4807356344944)"
      ]
     },
     "execution_count": 23,
     "metadata": {},
     "output_type": "execute_result"
    }
   ],
   "source": [
    "df[\"price\"].kurt()"
   ]
  },
  {
   "cell_type": "markdown",
   "id": "4f1e9dae-d517-4924-8781-96b6071f2b6d",
   "metadata": {},
   "source": [
    "How many listings have availability throughout the year (365 days)"
   ]
  },
  {
   "cell_type": "code",
   "execution_count": 24,
   "id": "da1df4f1-5225-44c8-95d6-2b239d34ed80",
   "metadata": {},
   "outputs": [
    {
     "data": {
      "text/plain": [
       "841"
      ]
     },
     "execution_count": 24,
     "metadata": {},
     "output_type": "execute_result"
    }
   ],
   "source": [
    "df[df[\"availability_365\"]==365].shape[0]"
   ]
  },
  {
   "cell_type": "code",
   "execution_count": 26,
   "id": "427bc8a8-5210-4b18-97ee-d1c7135d2cca",
   "metadata": {},
   "outputs": [
    {
     "data": {
      "text/html": [
       "<div>\n",
       "<style scoped>\n",
       "    .dataframe tbody tr th:only-of-type {\n",
       "        vertical-align: middle;\n",
       "    }\n",
       "\n",
       "    .dataframe tbody tr th {\n",
       "        vertical-align: top;\n",
       "    }\n",
       "\n",
       "    .dataframe thead th {\n",
       "        text-align: right;\n",
       "    }\n",
       "</style>\n",
       "<table border=\"1\" class=\"dataframe\">\n",
       "  <thead>\n",
       "    <tr style=\"text-align: right;\">\n",
       "      <th></th>\n",
       "      <th>host_id</th>\n",
       "      <th>price</th>\n",
       "      <th>minimum_nights</th>\n",
       "      <th>number_of_reviews</th>\n",
       "      <th>reviews_per_month</th>\n",
       "      <th>calculated_host_listings_count</th>\n",
       "      <th>availability_365</th>\n",
       "    </tr>\n",
       "  </thead>\n",
       "  <tbody>\n",
       "    <tr>\n",
       "      <th>host_id</th>\n",
       "      <td>1.000000</td>\n",
       "      <td>0.006263</td>\n",
       "      <td>-0.051673</td>\n",
       "      <td>-0.141973</td>\n",
       "      <td>0.296274</td>\n",
       "      <td>0.149417</td>\n",
       "      <td>0.155361</td>\n",
       "    </tr>\n",
       "    <tr>\n",
       "      <th>price</th>\n",
       "      <td>0.006263</td>\n",
       "      <td>1.000000</td>\n",
       "      <td>0.025501</td>\n",
       "      <td>-0.035924</td>\n",
       "      <td>-0.030623</td>\n",
       "      <td>0.052895</td>\n",
       "      <td>0.078276</td>\n",
       "    </tr>\n",
       "    <tr>\n",
       "      <th>minimum_nights</th>\n",
       "      <td>-0.051673</td>\n",
       "      <td>0.025501</td>\n",
       "      <td>1.000000</td>\n",
       "      <td>-0.069366</td>\n",
       "      <td>-0.121712</td>\n",
       "      <td>0.073474</td>\n",
       "      <td>0.101658</td>\n",
       "    </tr>\n",
       "    <tr>\n",
       "      <th>number_of_reviews</th>\n",
       "      <td>-0.141973</td>\n",
       "      <td>-0.035924</td>\n",
       "      <td>-0.069366</td>\n",
       "      <td>1.000000</td>\n",
       "      <td>0.549699</td>\n",
       "      <td>-0.059796</td>\n",
       "      <td>0.193409</td>\n",
       "    </tr>\n",
       "    <tr>\n",
       "      <th>reviews_per_month</th>\n",
       "      <td>0.296274</td>\n",
       "      <td>-0.030623</td>\n",
       "      <td>-0.121712</td>\n",
       "      <td>0.549699</td>\n",
       "      <td>1.000000</td>\n",
       "      <td>-0.009442</td>\n",
       "      <td>0.185896</td>\n",
       "    </tr>\n",
       "    <tr>\n",
       "      <th>calculated_host_listings_count</th>\n",
       "      <td>0.149417</td>\n",
       "      <td>0.052895</td>\n",
       "      <td>0.073474</td>\n",
       "      <td>-0.059796</td>\n",
       "      <td>-0.009442</td>\n",
       "      <td>1.000000</td>\n",
       "      <td>0.182981</td>\n",
       "    </tr>\n",
       "    <tr>\n",
       "      <th>availability_365</th>\n",
       "      <td>0.155361</td>\n",
       "      <td>0.078276</td>\n",
       "      <td>0.101658</td>\n",
       "      <td>0.193409</td>\n",
       "      <td>0.185896</td>\n",
       "      <td>0.182981</td>\n",
       "      <td>1.000000</td>\n",
       "    </tr>\n",
       "  </tbody>\n",
       "</table>\n",
       "</div>"
      ],
      "text/plain": [
       "                                 host_id     price  minimum_nights  \\\n",
       "host_id                         1.000000  0.006263       -0.051673   \n",
       "price                           0.006263  1.000000        0.025501   \n",
       "minimum_nights                 -0.051673  0.025501        1.000000   \n",
       "number_of_reviews              -0.141973 -0.035924       -0.069366   \n",
       "reviews_per_month               0.296274 -0.030623       -0.121712   \n",
       "calculated_host_listings_count  0.149417  0.052895        0.073474   \n",
       "availability_365                0.155361  0.078276        0.101658   \n",
       "\n",
       "                                number_of_reviews  reviews_per_month  \\\n",
       "host_id                                 -0.141973           0.296274   \n",
       "price                                   -0.035924          -0.030623   \n",
       "minimum_nights                          -0.069366          -0.121712   \n",
       "number_of_reviews                        1.000000           0.549699   \n",
       "reviews_per_month                        0.549699           1.000000   \n",
       "calculated_host_listings_count          -0.059796          -0.009442   \n",
       "availability_365                         0.193409           0.185896   \n",
       "\n",
       "                                calculated_host_listings_count  \\\n",
       "host_id                                               0.149417   \n",
       "price                                                 0.052895   \n",
       "minimum_nights                                        0.073474   \n",
       "number_of_reviews                                    -0.059796   \n",
       "reviews_per_month                                    -0.009442   \n",
       "calculated_host_listings_count                        1.000000   \n",
       "availability_365                                      0.182981   \n",
       "\n",
       "                                availability_365  \n",
       "host_id                                 0.155361  \n",
       "price                                   0.078276  \n",
       "minimum_nights                          0.101658  \n",
       "number_of_reviews                       0.193409  \n",
       "reviews_per_month                       0.185896  \n",
       "calculated_host_listings_count          0.182981  \n",
       "availability_365                        1.000000  "
      ]
     },
     "execution_count": 26,
     "metadata": {},
     "output_type": "execute_result"
    }
   ],
   "source": [
    "df.select_dtypes(include=['number']).corr()"
   ]
  },
  {
   "cell_type": "code",
   "execution_count": null,
   "id": "36bfeb1d-4e62-4e5a-9ec8-bf60ffa7e536",
   "metadata": {},
   "outputs": [],
   "source": []
  }
 ],
 "metadata": {
  "kernelspec": {
   "display_name": "Python [conda env:base] *",
   "language": "python",
   "name": "conda-base-py"
  },
  "language_info": {
   "codemirror_mode": {
    "name": "ipython",
    "version": 3
   },
   "file_extension": ".py",
   "mimetype": "text/x-python",
   "name": "python",
   "nbconvert_exporter": "python",
   "pygments_lexer": "ipython3",
   "version": "3.13.5"
  }
 },
 "nbformat": 4,
 "nbformat_minor": 5
}
